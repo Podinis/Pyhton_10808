{
 "cells": [
  {
   "cell_type": "markdown",
   "id": "6d95b962",
   "metadata": {},
   "source": [
    "## Importar librarias"
   ]
  },
  {
   "cell_type": "code",
   "execution_count": 1,
   "id": "73dfc6ea",
   "metadata": {},
   "outputs": [],
   "source": [
    "import pandas as pd\n",
    "import polars as pl\n",
    "import numpy as np"
   ]
  },
  {
   "cell_type": "markdown",
   "id": "dc15abf1",
   "metadata": {},
   "source": [
    "### Exercício 1: Classificar temperaturas"
   ]
  },
  {
   "cell_type": "markdown",
   "id": "babc4434",
   "metadata": {},
   "source": [
    "### Pandas"
   ]
  },
  {
   "cell_type": "code",
   "execution_count": null,
   "id": "5f1a44d3",
   "metadata": {},
   "outputs": [
    {
     "name": "stdout",
     "output_type": "stream",
     "text": [
      "   Temperatura classificacao     class1     class2\n",
      "0           10          Frio       Frio       Frio\n",
      "1           18     Agradável  Agradável  Agradável\n",
      "2           25         Calor      Calor      Calor\n",
      "3           30         Calor      Calor      Calor\n",
      "4            5          Frio       Frio       Frio\n"
     ]
    }
   ],
   "source": [
    "temperaturas = [10, 18, 25, 30, 5]\n",
    "\n",
    "# Criando um DataFrame a partir de uma lista\n",
    "df = pd.DataFrame(temperaturas, columns=['Temperatura'])\n",
    "# Adicionando uma nova coluna com classificação\n",
    "\n",
    "def classificar_temp(Temperatura):\n",
    "    if Temperatura < 15:\n",
    "        return \"Frio\"\n",
    "    elif Temperatura < 25:\n",
    "        return \"Agradável\"\n",
    "    else:\n",
    "        return \"Calor\"\n",
    "\n",
    "# Com aplicação de where\n",
    "df['classificacao_v3'] = np.where(df['Temperatura'] < 15, 'Frio', \n",
    "                         np.where(df['Temperatura'] < 25, 'Agradável', 'Calor'))\n",
    "\n",
    "# Com recurso a função\n",
    "df['classificacao_v2'] = df['Temperatura'].apply(classificar_temp)\n",
    "\n",
    "# Com aplicação de lambda\n",
    "df['classificacao_v3'] = df['Temperatura'].apply(lambda x: 'Frio' if x < 15 else 'Agradável' if x < 25 else 'Calor')\n",
    "\n",
    "print(df)"
   ]
  },
  {
   "cell_type": "markdown",
   "id": "cfd91a0b",
   "metadata": {},
   "source": [
    "### Polars"
   ]
  },
  {
   "cell_type": "code",
   "execution_count": 34,
   "id": "d6c769a5",
   "metadata": {},
   "outputs": [
    {
     "name": "stdout",
     "output_type": "stream",
     "text": [
      "shape: (5, 2)\n",
      "┌─────────────┬───────────────┐\n",
      "│ Temperatura ┆ classificacao │\n",
      "│ ---         ┆ ---           │\n",
      "│ i64         ┆ str           │\n",
      "╞═════════════╪═══════════════╡\n",
      "│ 10          ┆ Frio          │\n",
      "│ 18          ┆ Agradável     │\n",
      "│ 25          ┆ Calor         │\n",
      "│ 30          ┆ Calor         │\n",
      "│ 5           ┆ Frio          │\n",
      "└─────────────┴───────────────┘\n"
     ]
    }
   ],
   "source": [
    "temperaturas = [10, 18, 25, 30, 5]\n",
    "\n",
    "# Criando um DataFrame a partir de uma lista\n",
    "df = pl.DataFrame({'Temperatura':temperaturas})\n",
    "# Adicionando uma nova coluna com classificação\n",
    "\n",
    "df = df.with_columns([\n",
    "pl.when(pl.col(\"Temperatura\") < 15).then(pl.lit(\"Frio\"))\n",
    ".when(pl.col(\"Temperatura\") < 25).then(pl.lit(\"Agradável\"))\n",
    ".otherwise(pl.lit(\"Calor\"))\n",
    ".alias(\"classificacao\")\n",
    "])\n",
    "\n",
    "\n",
    "\n",
    "print(df)"
   ]
  },
  {
   "cell_type": "markdown",
   "id": "7e61b4eb",
   "metadata": {},
   "source": [
    "### Exercício 2: Classificação de rendimento escolar"
   ]
  },
  {
   "cell_type": "markdown",
   "id": "d6f548d3",
   "metadata": {},
   "source": [
    "### Pandas"
   ]
  },
  {
   "cell_type": "code",
   "execution_count": 41,
   "id": "550ca35a",
   "metadata": {},
   "outputs": [
    {
     "name": "stdout",
     "output_type": "stream",
     "text": [
      "   Nota classificacao classificacao_v1 classificacao_v2\n",
      "0     8     Reprovado        Reprovado        Reprovado\n",
      "1    12    Suficiente       Suficiente       Suficiente\n",
      "2    15           Bom              Bom              Bom\n",
      "3    18     Excelente        Excelente        Excelente\n",
      "4    10    Suficiente       Suficiente       Suficiente\n"
     ]
    }
   ],
   "source": [
    "notas = [8, 12, 15, 18, 10]\n",
    "\n",
    "# Criando um DataFrame a partir de uma lista\n",
    "df = pd.DataFrame(notas, columns=['Nota'])\n",
    "\n",
    "# Adicionando uma nova coluna com classificação\n",
    "\n",
    "def classificar_nota(Nota):\n",
    "    if Nota < 10:\n",
    "        return \"Reprovado\"\n",
    "    elif Nota <= 13:\n",
    "        return \"Suficiente\"\n",
    "    elif Nota <= 17:\n",
    "        return \"Bom\"\n",
    "    else:\n",
    "        return \"Excelente\"\n",
    "\n",
    "    \n",
    "# Com aplicação de where\n",
    "df['classificacao'] = np.where(df['Nota'] < 10, 'Reprovado', \n",
    "                         np.where(df['Nota'] <=13, 'Suficiente',\n",
    "                         np.where(df['Nota'] <=17,'Bom','Excelente')))\n",
    "\n",
    "# Com recurso a função\n",
    "df['classificacao_v1'] = df['Nota'].apply(classificar_nota)\n",
    "\n",
    "# Com aplicação de lambda\n",
    "df['classificacao_v2'] = df['Nota'].apply(lambda x: 'Reprovado' if x < 10 else 'Suficiente' if x <= 13 else 'Bom' if x <= 17 else 'Excelente')\n",
    "\n",
    "print(df)"
   ]
  },
  {
   "cell_type": "code",
   "execution_count": 50,
   "id": "7a6c121f",
   "metadata": {},
   "outputs": [
    {
     "name": "stdout",
     "output_type": "stream",
     "text": [
      "shape: (5, 2)\n",
      "┌──────┬───────────────┐\n",
      "│ Nota ┆ classificacao │\n",
      "│ ---  ┆ ---           │\n",
      "│ i64  ┆ str           │\n",
      "╞══════╪═══════════════╡\n",
      "│ 8    ┆ Reprovado     │\n",
      "│ 12   ┆ Suficiente    │\n",
      "│ 15   ┆ Bom           │\n",
      "│ 18   ┆ Excelente     │\n",
      "│ 10   ┆ Suficiente    │\n",
      "└──────┴───────────────┘\n"
     ]
    }
   ],
   "source": [
    "notas = [8, 12, 15, 18, 10]\n",
    "\n",
    "# Criando um DataFrame a partir de uma lista\n",
    "df = pl.DataFrame({'Nota': notas})\n",
    "# Adicionando uma nova coluna com classificação\n",
    "\n",
    "df = df.with_columns([\n",
    "pl.when(pl.col(\"Nota\") < 10).then(pl.lit(\"Reprovado\"))\n",
    ".when(pl.col(\"Nota\") <= 13).then(pl.lit(\"Suficiente\"))\n",
    ".when(pl.col(\"Nota\") <= 17).then(pl.lit(\"Bom\"))\n",
    ".otherwise(pl.lit(\"Excelente\"))\n",
    ".alias(\"classificacao\")\n",
    "])\n",
    "\n",
    "\n",
    "print(df)"
   ]
  }
 ],
 "metadata": {
  "kernelspec": {
   "display_name": "Python 3",
   "language": "python",
   "name": "python3"
  },
  "language_info": {
   "codemirror_mode": {
    "name": "ipython",
    "version": 3
   },
   "file_extension": ".py",
   "mimetype": "text/x-python",
   "name": "python",
   "nbconvert_exporter": "python",
   "pygments_lexer": "ipython3",
   "version": "3.13.2"
  }
 },
 "nbformat": 4,
 "nbformat_minor": 5
}
