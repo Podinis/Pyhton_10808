{
 "cells": [
  {
   "cell_type": "markdown",
   "id": "a7b74c71",
   "metadata": {},
   "source": [
    "## Conteudo Aula 5\n",
    "\n",
    "- Alteraçã de valores com .map() .replace() ou com LabelEncoder()"
   ]
  },
  {
   "cell_type": "markdown",
   "id": "2bc7aa55",
   "metadata": {},
   "source": [
    "### Exercicio Prático\n",
    " - Criar um DataFrame com 2 colunas\n",
    "\n",
    " cor_vinho: com valores \"tinto\" e \"branco\"\n",
    " <br>tipo_cliente: com valores \"Regular\", \"Premium\" e \"VIP\"\n",
    "\n",
    " Codificar as coluna cor_vinho com .map() e tipo_cliente com LabelEncoder()"
   ]
  },
  {
   "cell_type": "code",
   "execution_count": null,
   "id": "3171cfe6",
   "metadata": {},
   "outputs": [],
   "source": [
    "## Exercicio Prático\n",
    "import pandas as pd\n",
    "from sklearn.preprocessing import LabelEncoder\n",
    "\n",
    "vinhos =({'tipo_vinho': ['tinto', 'tinto', 'tinto', 'branco', 'tinto', 'branco'],\n",
    "          'tipo_cliente': ['Vip', 'Regular', 'Vip', 'Regular', 'Premium','Regular']\n",
    "          })\n",
    "\n",
    "df = pd.DataFrame(vinhos)\n",
    "print(df)\n",
    "#Adicionar nova coluna com o tipo de vinho\n",
    "df['tipo_vinho_bin'] = df['tipo_vinho'].map({'tinto': 1, 'branco': 0})\n",
    "\n",
    "print('\\n ## Com adição de coluna com cod tipo vinho ##')\n",
    "print(df)\n",
    "\n",
    "#Adicionar nova coluna com o tipo de cliente\n",
    "encoder=LabelEncoder()\n",
    "df['tipo_cliente_cod'] = encoder.fit_transform(df['tipo_cliente'])\n",
    "print('\\n ## Com adição de coluna com cod tipo cliente ##')\n",
    "print( df)\n",
    "\n",
    "\n",
    "# print(\"\\n Tabela com Tipo Cliente:\")\n",
    "# tabela = pd.DataFrame(df['tipo_cliente'].unique(), df['tipo_cliente_cod'].unique())\n",
    "# print(tabela.sort_index(axis=0, ascending=True))\n",
    "\n",
    "\n",
    "# Criar um DataFrame para mostrar os valores únicos e seus códigos\n",
    "valores_unicos = pd.DataFrame({\n",
    "    'tipo_cliente': encoder.classes_,\n",
    "    'tipo_cliente_cod': range(len(encoder.classes_))\n",
    "})\n",
    "\n",
    "print('\\n ## Tabela de valores únicos e seus códigos ##')\n",
    "print(valores_unicos)\n",
    "\n"
   ]
  },
  {
   "cell_type": "markdown",
   "id": "4b558596",
   "metadata": {},
   "source": [
    "groupby().\n"
   ]
  }
 ],
 "metadata": {
  "kernelspec": {
   "display_name": "Python 3",
   "language": "python",
   "name": "python3"
  },
  "language_info": {
   "codemirror_mode": {
    "name": "ipython",
    "version": 3
   },
   "file_extension": ".py",
   "mimetype": "text/x-python",
   "name": "python",
   "nbconvert_exporter": "python",
   "pygments_lexer": "ipython3",
   "version": "3.13.2"
  }
 },
 "nbformat": 4,
 "nbformat_minor": 5
}
