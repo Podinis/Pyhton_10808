{
 "cells": [
  {
   "cell_type": "markdown",
   "id": "30b151be",
   "metadata": {},
   "source": [
    "### Atividade 1 — Estatísticas por Categoria\n",
    "\n",
    "Dado o seguinte dataset: <br>\n",
    "dados = {\n",
    "'Categoria': ['A', 'B', 'A', 'C', 'B', 'C', 'A'],\n",
    "'Valor': [10, 20, 15, 30, 25, 35, 12]\n",
    "}\n",
    "<br>\n",
    "Objetivo: Com Pandas e de seguida com Polars, calcular:<br>\n",
    "-Total de valores por categoria<br>\n",
    "-Média por categoria<br>\n",
    "-Desvio padrão<br>"
   ]
  },
  {
   "cell_type": "code",
   "execution_count": 7,
   "id": "a8d886df",
   "metadata": {},
   "outputs": [],
   "source": [
    "## carregamento de Bibliotecas\n",
    "\n",
    "import pandas as pd\n",
    "import polars as pl\n",
    "\n",
    "dados = {\n",
    "'Categoria': ['A', 'B', 'A', 'C', 'B', 'C', 'A'],\n",
    "'Valor': [10, 20, 15, 30, 25, 35, 12]\n",
    "}\n"
   ]
  },
  {
   "cell_type": "markdown",
   "id": "115bdac8",
   "metadata": {},
   "source": [
    "####  Com Pandas"
   ]
  },
  {
   "cell_type": "code",
   "execution_count": 9,
   "id": "cbd77e43",
   "metadata": {},
   "outputs": [
    {
     "name": "stdout",
     "output_type": "stream",
     "text": [
      "Contagem de nulos\n",
      "index        0\n",
      "Categoria    0\n",
      "Valor        0\n",
      "dtype: int64\n",
      "\n",
      "Total por Categoria: Categoria\n",
      "A    37\n",
      "B    45\n",
      "C    65\n",
      "Name: Valor, dtype: int64\n",
      "\n",
      "Media por Categoria: Categoria\n",
      "A    12.333333\n",
      "B    22.500000\n",
      "C    32.500000\n",
      "Name: Valor, dtype: float64\n",
      "\n",
      "Desvio Padrão por Categoria: Categoria\n",
      "A    2.516611\n",
      "B    3.535534\n",
      "C    3.535534\n",
      "Name: Valor, dtype: float64\n",
      "\n",
      "Tabela com dados \n",
      "           Total      Media    Desvio\n",
      "Categoria                            \n",
      "A             37  12.333333  2.516611\n",
      "B             45  22.500000  3.535534\n",
      "C             65  32.500000  3.535534\n",
      "\n",
      " Resumo de dados agregados com Pandas\n",
      "           count       mean       std  min  max\n",
      "Categoria                                      \n",
      "A              3  12.333333  2.516611   10   15\n",
      "B              2  22.500000  3.535534   20   25\n",
      "C              2  32.500000  3.535534   30   35\n"
     ]
    }
   ],
   "source": [
    "\n",
    "df= pd.DataFrame(dados).reset_index()\n",
    "print ('Contagem de nulos')\n",
    "print(df.isnull().sum()) #verifica se existem valores nulos\n",
    "#Calculos individuais\n",
    "Total=df.groupby('Categoria')['Valor'].sum()\n",
    "Media=df.groupby('Categoria')['Valor'].mean()\n",
    "Desvio=df.groupby('Categoria')['Valor'].std()\n",
    "print('\\nTotal por Categoria:', Total)\n",
    "print('\\nMedia por Categoria:', Media) \n",
    "print('\\nDesvio Padrão por Categoria:', Desvio)\n",
    "\n",
    "#Passagem de dados para tabela\n",
    "print('\\nTabela com dados ')\n",
    "tabela = pd.DataFrame({'Total': Total, 'Media': Media, 'Desvio': Desvio})\n",
    "print(tabela)\n",
    "\n",
    "print('\\n Resumo de dados agregados com Pandas')\n",
    "agregado = df.groupby('Categoria')['Valor'].agg(['count', 'mean', 'std', 'min', 'max'])\n",
    "print(agregado) "
   ]
  },
  {
   "cell_type": "markdown",
   "id": "6a7f88ca",
   "metadata": {},
   "source": [
    "####  Com Polars"
   ]
  },
  {
   "cell_type": "code",
   "execution_count": 3,
   "id": "9e76e970",
   "metadata": {},
   "outputs": [
    {
     "name": "stdout",
     "output_type": "stream",
     "text": [
      "shape: (3, 7)\n",
      "┌───────────┬───────┬───────┬───────────┬──────────┬─────┬─────┐\n",
      "│ Categoria ┆ Count ┆ Total ┆ Media     ┆ Desvio   ┆ Min ┆ Max │\n",
      "│ ---       ┆ ---   ┆ ---   ┆ ---       ┆ ---      ┆ --- ┆ --- │\n",
      "│ str       ┆ u32   ┆ i64   ┆ f64       ┆ f64      ┆ i64 ┆ i64 │\n",
      "╞═══════════╪═══════╪═══════╪═══════════╪══════════╪═════╪═════╡\n",
      "│ A         ┆ 3     ┆ 37    ┆ 12.333333 ┆ 2.516611 ┆ 10  ┆ 15  │\n",
      "│ B         ┆ 2     ┆ 45    ┆ 22.5      ┆ 3.535534 ┆ 20  ┆ 25  │\n",
      "│ C         ┆ 2     ┆ 65    ┆ 32.5      ┆ 3.535534 ┆ 30  ┆ 35  │\n",
      "└───────────┴───────┴───────┴───────────┴──────────┴─────┴─────┘\n"
     ]
    }
   ],
   "source": [
    "df = pl.DataFrame(dados) \n",
    "\n",
    "# Resumo de dados com Polars\n",
    "tabela=df.group_by('Categoria').agg(\n",
    "    [   pl.col('Valor').count().alias('Count'),  \n",
    "        pl.col('Valor').sum().alias('Total'),\n",
    "        pl.col('Valor').mean().alias('Media'),\n",
    "        pl.col('Valor').std().alias('Desvio'),\n",
    "        pl.col('Valor').min().alias('Min'),\n",
    "        pl.col('Valor').max().alias('Max')\n",
    "    ]\n",
    ").sort('Categoria')\n",
    "\n",
    "print(tabela)\n"
   ]
  },
  {
   "cell_type": "markdown",
   "id": "1fb5976e",
   "metadata": {},
   "source": [
    "### Actividade 2"
   ]
  },
  {
   "cell_type": "markdown",
   "id": "a337ab52",
   "metadata": {},
   "source": [
    "#### 1. Usando Pandas, crie um DataFrame com notas de alunos por disciplina. Agrupe por disciplina e calcule a média e o desvio padrão das notas."
   ]
  },
  {
   "cell_type": "code",
   "execution_count": 4,
   "id": "69a230cf",
   "metadata": {},
   "outputs": [
    {
     "name": "stdout",
     "output_type": "stream",
     "text": [
      "\n",
      "Contagem de nulos\n",
      "index          0\n",
      "Disciplinas    0\n",
      "Notas          0\n",
      "dtype: int64\n",
      "\n",
      "Tabela de Alunos\n",
      "   index Disciplinas  Notas\n",
      "0      0  Matematica   10.0\n",
      "1      1   Portugues    9.0\n",
      "2      2    Historia   11.0\n",
      "3      3      Ingles   12.0\n",
      "4      4   Portugues    8.5\n",
      "5      5    Historia   11.0\n",
      "6      6      Ingles    9.0\n",
      "\n",
      " Resumo de dados agregados com Pandas\n",
      "             count   mean       std   min   max\n",
      "Disciplinas                                    \n",
      "Historia         2  11.00  0.000000  11.0  11.0\n",
      "Ingles           2  10.50  2.121320   9.0  12.0\n",
      "Matematica       1  10.00       NaN  10.0  10.0\n",
      "Portugues        2   8.75  0.353553   8.5   9.0\n"
     ]
    }
   ],
   "source": [
    "alunos = {\n",
    "        'Disciplinas':['Matematica', 'Portugues', 'Historia', 'Ingles','Portugues', 'Historia', 'Ingles'],\n",
    "        'Notas':[10,9.0,11.0,12,8.5,11,9.0]\n",
    "        }\n",
    "\n",
    "df_alunos = pd.DataFrame(alunos).reset_index()\n",
    "print('\\nContagem de nulos')\n",
    "print(df_alunos.isnull().sum()) #verifica se existem valores nulos\n",
    "\n",
    "print('\\nTabela de Alunos')\n",
    "print(df_alunos)\n",
    "\n",
    "print('\\n Resumo de dados agregados com Pandas')\n",
    "agregado = df_alunos.groupby('Disciplinas')['Notas'].agg(['count', 'mean', 'std', 'min', 'max'])\n",
    "print(agregado) \n",
    "\n"
   ]
  },
  {
   "cell_type": "markdown",
   "id": "5432adba",
   "metadata": {},
   "source": [
    "#### 2. Com Polars, carregue um CSV com dados de vendas e agrupe por região, calculando o total e o número de vendas por região"
   ]
  },
  {
   "cell_type": "code",
   "execution_count": 5,
   "id": "43455bf7",
   "metadata": {},
   "outputs": [
    {
     "name": "stdout",
     "output_type": "stream",
     "text": [
      "\n",
      "Tabela de Vendas\n",
      "shape: (8, 3)\n",
      "┌──────────┬────────┬─────────────┐\n",
      "│ id_venda ┆ regiao ┆ valor_venda │\n",
      "│ ---      ┆ ---    ┆ ---         │\n",
      "│ i64      ┆ str    ┆ f64         │\n",
      "╞══════════╪════════╪═════════════╡\n",
      "│ 1        ┆ Norte  ┆ 100.0       │\n",
      "│ 2        ┆ Sul    ┆ 150.0       │\n",
      "│ 3        ┆ Leste  ┆ 200.0       │\n",
      "│ 4        ┆ Oeste  ┆ 250.0       │\n",
      "│ 5        ┆ Norte  ┆ 300.0       │\n",
      "│ 6        ┆ Sul    ┆ 350.0       │\n",
      "│ 7        ┆ Leste  ┆ 400.0       │\n",
      "│ 8        ┆ Oeste  ┆ 450.0       │\n",
      "└──────────┴────────┴─────────────┘\n",
      "\n",
      "Contagem de nulos\n",
      "shape: (1, 3)\n",
      "┌──────────┬────────┬─────────────┐\n",
      "│ id_venda ┆ regiao ┆ valor_venda │\n",
      "│ ---      ┆ ---    ┆ ---         │\n",
      "│ u32      ┆ u32    ┆ u32         │\n",
      "╞══════════╪════════╪═════════════╡\n",
      "│ 0        ┆ 0      ┆ 0           │\n",
      "└──────────┴────────┴─────────────┘\n",
      "shape: (4, 3)\n",
      "┌────────┬──────────────┬───────────────┐\n",
      "│ regiao ┆ total_vendas ┆ numero_vendas │\n",
      "│ ---    ┆ ---          ┆ ---           │\n",
      "│ str    ┆ f64          ┆ u32           │\n",
      "╞════════╪══════════════╪═══════════════╡\n",
      "│ Leste  ┆ 600.0        ┆ 2             │\n",
      "│ Norte  ┆ 400.0        ┆ 2             │\n",
      "│ Oeste  ┆ 700.0        ┆ 2             │\n",
      "│ Sul    ┆ 500.0        ┆ 2             │\n",
      "└────────┴──────────────┴───────────────┘\n"
     ]
    }
   ],
   "source": [
    "df_vendas = pl.read_csv(r'C:\\Users\\HP\\Desktop\\Formação\\Eisnt\\UFCD 10808 - Limpeza e transformação de dados em Python\\vendas.csv')\n",
    "\n",
    "print('\\nTabela de Vendas')\n",
    "print(df_vendas)\n",
    "# Verificar se existem valores nulos    \n",
    "print('\\nContagem de nulos')\n",
    "print(df_vendas.select(pl.all().is_null().sum())) #verifica se existem valores nulos\n",
    "\n",
    "\n",
    "# Agrupar por região e calcular total e número de vendas\n",
    "resultado = df_vendas.group_by('regiao').agg(\n",
    "    [\n",
    "        pl.sum(\"valor_venda\").alias(\"total_vendas\"),\n",
    "        pl.count(\"id_venda\").alias(\"numero_vendas\")\n",
    "    ]\n",
    "    ).sort('regiao')\n",
    "\n",
    "# Exibir resultados\n",
    "print(resultado)\n"
   ]
  },
  {
   "cell_type": "markdown",
   "id": "0a383d0d",
   "metadata": {},
   "source": [
    "#### 3. Extra: Faça uma agregação com múltiplas colunas num mesmo groupby"
   ]
  },
  {
   "cell_type": "code",
   "execution_count": 6,
   "id": "cd25f538",
   "metadata": {},
   "outputs": [
    {
     "name": "stdout",
     "output_type": "stream",
     "text": [
      "\n",
      "Contagem de nulos\n",
      "shape: (1, 3)\n",
      "┌────────────┬──────┬─────┐\n",
      "│ disciplina ┆ nota ┆ ano │\n",
      "│ ---        ┆ ---  ┆ --- │\n",
      "│ u32        ┆ u32  ┆ u32 │\n",
      "╞════════════╪══════╪═════╡\n",
      "│ 0          ┆ 0    ┆ 0   │\n",
      "└────────────┴──────┴─────┘\n",
      "shape: (6, 5)\n",
      "┌──────┬────────────┬────────────┬────────────────────┬───────────────┐\n",
      "│ ano  ┆ disciplina ┆ media_nota ┆ desvio_padrao_nota ┆ classificacao │\n",
      "│ ---  ┆ ---        ┆ ---        ┆ ---                ┆ ---           │\n",
      "│ i64  ┆ str        ┆ f64        ┆ f64                ┆ str           │\n",
      "╞══════╪════════════╪════════════╪════════════════════╪═══════════════╡\n",
      "│ 2020 ┆ Física     ┆ 10.75      ┆ 6.010408           ┆ Suficiente    │\n",
      "│ 2020 ┆ Matemática ┆ 9.0        ┆ 2.828427           ┆ Mau           │\n",
      "│ 2020 ┆ Química    ┆ 10.75      ┆ 1.06066            ┆ Suficiente    │\n",
      "│ 2021 ┆ Física     ┆ 9.25       ┆ 0.353553           ┆ Mau           │\n",
      "│ 2021 ┆ Matemática ┆ 13.25      ┆ 6.717514           ┆ Bom           │\n",
      "│ 2021 ┆ Química    ┆ 8.666667   ┆ 1.607275           ┆ Mau           │\n",
      "└──────┴────────────┴────────────┴────────────────────┴───────────────┘\n"
     ]
    }
   ],
   "source": [
    "data = {\n",
    "    'disciplina': ['Matemática', 'Matemática', 'Química','Física', 'Física', 'Química', 'Química','Matemática', 'Matemática', 'Física', 'Física', 'Química', 'Química'],\n",
    "    'nota': [8.5, 7.0, 10, 9.0, 6.5, 7.5, 8.0,11.0, 18.0, 15 , 9.5, 11.5, 10.5],\n",
    "    'ano': [2021, 2020, 2020, 2021, 2020, 2021, 2021,2020 , 2021, 2020, 2021, 2020, 2021],\n",
    "}\n",
    "\n",
    "df = pl.DataFrame(data)\n",
    "# print('\\nTabela de Alunos')\n",
    "# print(df)\n",
    "\n",
    "print('\\nContagem de nulos')\n",
    "print(df.select(pl.all().is_null().sum())) \n",
    "\n",
    "# Agrupando por disciplina e ano, e calculando média e desvio padrão\n",
    "result = df.group_by(['ano', 'disciplina']).agg([\n",
    "    pl.col('nota').mean().alias('media_nota'),\n",
    "    pl.col('nota').std().alias('desvio_padrao_nota')\n",
    "]).sort('ano', 'disciplina')\n",
    "\n",
    "#Adiciona coluna com classificação atraves da media da nota\n",
    "result = result.with_columns([\n",
    "pl.when(pl.col(\"media_nota\") < 10).then(pl.lit(\"Mau\"))\n",
    ".when(pl.col(\"media_nota\") < 13).then(pl.lit(\"Suficiente\"))\n",
    ".otherwise(pl.lit(\"Bom\"))\n",
    ".alias(\"classificacao\")\n",
    "])\n",
    "\n",
    "print(result)\n"
   ]
  }
 ],
 "metadata": {
  "kernelspec": {
   "display_name": "Python 3",
   "language": "python",
   "name": "python3"
  },
  "language_info": {
   "codemirror_mode": {
    "name": "ipython",
    "version": 3
   },
   "file_extension": ".py",
   "mimetype": "text/x-python",
   "name": "python",
   "nbconvert_exporter": "python",
   "pygments_lexer": "ipython3",
   "version": "3.13.2"
  }
 },
 "nbformat": 4,
 "nbformat_minor": 5
}
