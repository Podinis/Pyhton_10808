{
 "cells": [
  {
   "cell_type": "markdown",
   "id": "dbe674c2",
   "metadata": {},
   "source": [
    "## Secção 1 – Visualização Inicial de Dados - Resoluções"
   ]
  },
  {
   "cell_type": "markdown",
   "id": "f39c8af8",
   "metadata": {},
   "source": [
    "### Exercício\n",
    "Lê o ficheiro `produtos.csv` com `;` como separador usando Pandas."
   ]
  },
  {
   "cell_type": "code",
   "execution_count": 1,
   "id": "b2fc13ac",
   "metadata": {},
   "outputs": [
    {
     "data": {
      "text/html": [
       "<div>\n",
       "<style scoped>\n",
       "    .dataframe tbody tr th:only-of-type {\n",
       "        vertical-align: middle;\n",
       "    }\n",
       "\n",
       "    .dataframe tbody tr th {\n",
       "        vertical-align: top;\n",
       "    }\n",
       "\n",
       "    .dataframe thead th {\n",
       "        text-align: right;\n",
       "    }\n",
       "</style>\n",
       "<table border=\"1\" class=\"dataframe\">\n",
       "  <thead>\n",
       "    <tr style=\"text-align: right;\">\n",
       "      <th></th>\n",
       "      <th>Produto</th>\n",
       "      <th>Preço</th>\n",
       "      <th>Stock</th>\n",
       "      <th>Categoria</th>\n",
       "    </tr>\n",
       "  </thead>\n",
       "  <tbody>\n",
       "    <tr>\n",
       "      <th>0</th>\n",
       "      <td>Caneta</td>\n",
       "      <td>0.5</td>\n",
       "      <td>100.0</td>\n",
       "      <td>Escritório</td>\n",
       "    </tr>\n",
       "    <tr>\n",
       "      <th>1</th>\n",
       "      <td>Lápis</td>\n",
       "      <td>0.3</td>\n",
       "      <td>150.0</td>\n",
       "      <td>Escritório</td>\n",
       "    </tr>\n",
       "    <tr>\n",
       "      <th>2</th>\n",
       "      <td>Caderno</td>\n",
       "      <td>1.2</td>\n",
       "      <td>80.0</td>\n",
       "      <td>Papelaria</td>\n",
       "    </tr>\n",
       "    <tr>\n",
       "      <th>3</th>\n",
       "      <td>Borracha</td>\n",
       "      <td>0.25</td>\n",
       "      <td>200.0</td>\n",
       "      <td>Escritório</td>\n",
       "    </tr>\n",
       "    <tr>\n",
       "      <th>4</th>\n",
       "      <td>Marcador</td>\n",
       "      <td>0.8</td>\n",
       "      <td>75.0</td>\n",
       "      <td>Marcadores</td>\n",
       "    </tr>\n",
       "  </tbody>\n",
       "</table>\n",
       "</div>"
      ],
      "text/plain": [
       "    Produto Preço  Stock   Categoria\n",
       "0    Caneta   0.5  100.0  Escritório\n",
       "1     Lápis   0.3  150.0  Escritório\n",
       "2   Caderno   1.2   80.0   Papelaria\n",
       "3  Borracha  0.25  200.0  Escritório\n",
       "4  Marcador   0.8   75.0  Marcadores"
      ]
     },
     "execution_count": 1,
     "metadata": {},
     "output_type": "execute_result"
    }
   ],
   "source": [
    "import pandas as pd\n",
    "df_pandas = pd.read_csv(r'C:\\Users\\HP\\Desktop\\Formação\\Eisnt\\UFCD 10808 - Limpeza e transformação de dados em Python\\produtos.csv', sep=\";\")\n",
    "df_pandas.head()"
   ]
  },
  {
   "cell_type": "markdown",
   "id": "192d1e33",
   "metadata": {},
   "source": [
    "### Exercício\n",
    "Mostra as 5 primeiras e as 3 últimas linhas com `head()` e `tail()`."
   ]
  },
  {
   "cell_type": "code",
   "execution_count": 44,
   "id": "c7298fd8",
   "metadata": {},
   "outputs": [
    {
     "name": "stdout",
     "output_type": "stream",
     "text": [
      "Head (5 linhas):\n",
      "    Produto  Preço  Stock   Categoria\n",
      "0    Caneta   0.50    100  Escritório\n",
      "1     Lápis   0.30    150  Escritório\n",
      "2   Caderno   1.20     80   Papelaria\n",
      "3  Borracha   0.25    200  Escritório\n",
      "4  Marcador   0.80     75  Marcadores\n",
      "\n",
      "Tail (3 linhas):\n",
      "    Produto  Preço  Stock   Categoria\n",
      "2   Caderno   1.20     80   Papelaria\n",
      "3  Borracha   0.25    200  Escritório\n",
      "4  Marcador   0.80     75  Marcadores\n"
     ]
    }
   ],
   "source": [
    "print(\"Head (5 linhas):\")\n",
    "print(df_pandas.head())\n",
    "print(\"\\nTail (3 linhas):\")\n",
    "print(df_pandas.tail(3))"
   ]
  },
  {
   "cell_type": "markdown",
   "id": "634f72d3",
   "metadata": {},
   "source": [
    "### Exercício\n",
    "Lê apenas as colunas `Produto` e `Preço`."
   ]
  },
  {
   "cell_type": "code",
   "execution_count": 45,
   "id": "fbcdcf16",
   "metadata": {},
   "outputs": [
    {
     "name": "stdout",
     "output_type": "stream",
     "text": [
      "\n",
      "Colunas Produto e Preço:\n",
      "    Produto  Preço\n",
      "0    Caneta   0.50\n",
      "1     Lápis   0.30\n",
      "2   Caderno   1.20\n",
      "3  Borracha   0.25\n",
      "4  Marcador   0.80\n"
     ]
    }
   ],
   "source": [
    "df_pandas_subset = pd.read_csv('produtos.csv', sep=';', usecols=['Produto', 'Preço'])\n",
    "print(\"\\nColunas Produto e Preço:\")\n",
    "print(df_pandas_subset.head())"
   ]
  },
  {
   "cell_type": "markdown",
   "id": "b18f61fa",
   "metadata": {},
   "source": [
    "### Exercício\n",
    "Lê o ficheiro `produtos.csv` com `;` usando Polars, ignorando a primeira linha."
   ]
  },
  {
   "cell_type": "code",
   "execution_count": null,
   "id": "2443d84b",
   "metadata": {},
   "outputs": [
    {
     "name": "stdout",
     "output_type": "stream",
     "text": [
      "shape: (4, 4)\n",
      "┌──────────┬──────┬─────┬────────────┐\n",
      "│ Caneta   ┆ 0.5  ┆ 100 ┆ Escritório │\n",
      "│ ---      ┆ ---  ┆ --- ┆ ---        │\n",
      "│ str      ┆ f64  ┆ i64 ┆ str        │\n",
      "╞══════════╪══════╪═════╪════════════╡\n",
      "│ Lápis    ┆ 0.3  ┆ 150 ┆ Escritório │\n",
      "│ Caderno  ┆ 1.2  ┆ 80  ┆ Papelaria  │\n",
      "│ Borracha ┆ 0.25 ┆ 200 ┆ Escritório │\n",
      "│ Marcador ┆ 0.8  ┆ 75  ┆ Marcadores │\n",
      "└──────────┴──────┴─────┴────────────┘\n"
     ]
    }
   ],
   "source": [
    "import polars as pl\n",
    "\n",
    "df_polars = pl.read_csv('produtos.csv', separator=';', skip_rows=1, has_header=True)\n",
    "\n",
    "print(df_polars)"
   ]
  },
  {
   "cell_type": "markdown",
   "id": "8f23b6af",
   "metadata": {},
   "source": [
    "### Exercício\n",
    "Lê apenas as colunas `Produto` e `Preço` com Polars."
   ]
  },
  {
   "cell_type": "code",
   "execution_count": 88,
   "id": "bd445fda",
   "metadata": {},
   "outputs": [
    {
     "name": "stdout",
     "output_type": "stream",
     "text": [
      "\n",
      "Colunas Produto e Preço com Polars:\n",
      "shape: (5, 2)\n",
      "┌──────────┬───────┐\n",
      "│ Produto  ┆ Preço │\n",
      "│ ---      ┆ ---   │\n",
      "│ str      ┆ f64   │\n",
      "╞══════════╪═══════╡\n",
      "│ Caneta   ┆ 0.5   │\n",
      "│ Lápis    ┆ 0.3   │\n",
      "│ Caderno  ┆ 1.2   │\n",
      "│ Borracha ┆ 0.25  │\n",
      "│ Marcador ┆ 0.8   │\n",
      "└──────────┴───────┘\n"
     ]
    }
   ],
   "source": [
    "df_polars_subset = pl.read_csv('produtos.csv', separator=';', has_header=True, columns=['Produto', 'Preço'])\n",
    "print(\"\\nColunas Produto e Preço com Polars:\")\n",
    "print(df_polars_subset)"
   ]
  },
  {
   "cell_type": "markdown",
   "id": "16814252",
   "metadata": {},
   "source": [
    "### Exercício\n",
    "Mostra o número de linhas e colunas."
   ]
  },
  {
   "cell_type": "code",
   "execution_count": 89,
   "id": "030f6b24",
   "metadata": {},
   "outputs": [
    {
     "name": "stdout",
     "output_type": "stream",
     "text": [
      "\n",
      "Pandas - Número de linhas: 8, colunas: 4\n",
      "Polars - Número de linhas: 8, colunas: 4\n"
     ]
    }
   ],
   "source": [
    "# Pandas\n",
    "print(f\"\\nPandas - Número de linhas: {df_pandas.shape[0]}, colunas: {df_pandas.shape[1]}\")\n",
    "\n",
    "# Polars\n",
    "print(f\"Polars - Número de linhas: {df_polars.shape[0]}, colunas: {df_polars.shape[1]}\")"
   ]
  },
  {
   "cell_type": "markdown",
   "id": "b09fe956",
   "metadata": {},
   "source": [
    "### Exercício\n",
    "Mostra os nomes das colunas."
   ]
  },
  {
   "cell_type": "code",
   "execution_count": 90,
   "id": "ba871657",
   "metadata": {},
   "outputs": [
    {
     "name": "stdout",
     "output_type": "stream",
     "text": [
      "\n",
      "Pandas - Nomes das colunas:\n",
      "['Produto', 'Preço', 'Stock', 'Categoria']\n",
      "\n",
      "Polars - Nomes das colunas:\n",
      "['Produto', 'Preço', 'Stock', 'Categoria']\n"
     ]
    }
   ],
   "source": [
    "print(\"\\nPandas - Nomes das colunas:\")\n",
    "print(df_pandas.columns.tolist())\n",
    "\n",
    "print(\"\\nPolars - Nomes das colunas:\")\n",
    "print(df_polars.columns)"
   ]
  },
  {
   "cell_type": "markdown",
   "id": "391f8775",
   "metadata": {},
   "source": [
    "### Exercício\n",
    "Mostra os tipos de dados com Pandas e com Polars."
   ]
  },
  {
   "cell_type": "code",
   "execution_count": 50,
   "id": "0ee3f9a2",
   "metadata": {},
   "outputs": [
    {
     "name": "stdout",
     "output_type": "stream",
     "text": [
      "\n",
      "Pandas - Tipos de dados:\n",
      "Produto       object\n",
      "Preço        float64\n",
      "Stock          int64\n",
      "Categoria     object\n",
      "dtype: object\n",
      "\n",
      "Polars - Tipos de dados:\n",
      "[String, Float64, Int64, String]\n"
     ]
    }
   ],
   "source": [
    "print(\"\\nPandas - Tipos de dados:\")\n",
    "print(df_pandas.dtypes)\n",
    "\n",
    "print(\"\\nPolars - Tipos de dados:\")\n",
    "print(df_polars.dtypes)"
   ]
  },
  {
   "cell_type": "markdown",
   "id": "9b575134",
   "metadata": {},
   "source": [
    "### Exercício\n",
    "Apresenta as estatísticas descritivas com `describe()`."
   ]
  },
  {
   "cell_type": "code",
   "execution_count": 51,
   "id": "1f04b052",
   "metadata": {},
   "outputs": [
    {
     "name": "stdout",
     "output_type": "stream",
     "text": [
      "\n",
      "Pandas - Estatísticas descritivas:\n",
      "          Preço       Stock\n",
      "count  5.000000    5.000000\n",
      "mean   0.610000  121.000000\n",
      "std    0.394335   53.197744\n",
      "min    0.250000   75.000000\n",
      "25%    0.300000   80.000000\n",
      "50%    0.500000  100.000000\n",
      "75%    0.800000  150.000000\n",
      "max    1.200000  200.000000\n"
     ]
    }
   ],
   "source": [
    "print(\"\\nPandas - Estatísticas descritivas:\")\n",
    "print(df_pandas.describe())"
   ]
  },
  {
   "cell_type": "markdown",
   "id": "aee404ba",
   "metadata": {},
   "source": [
    "## Secção 2 – Dados Ausentes e Qualidade de Dados - Resoluções"
   ]
  },
  {
   "cell_type": "markdown",
   "id": "bf8c280c",
   "metadata": {},
   "source": [
    "### Exercício\n",
    "Adiciona valores “N/D” ao ficheiro `produtos.csv` e lê-o tratando-os como nulos."
   ]
  },
  {
   "cell_type": "code",
   "execution_count": 91,
   "id": "f99f3d99",
   "metadata": {},
   "outputs": [
    {
     "data": {
      "text/html": [
       "<div>\n",
       "<style scoped>\n",
       "    .dataframe tbody tr th:only-of-type {\n",
       "        vertical-align: middle;\n",
       "    }\n",
       "\n",
       "    .dataframe tbody tr th {\n",
       "        vertical-align: top;\n",
       "    }\n",
       "\n",
       "    .dataframe thead th {\n",
       "        text-align: right;\n",
       "    }\n",
       "</style>\n",
       "<table border=\"1\" class=\"dataframe\">\n",
       "  <thead>\n",
       "    <tr style=\"text-align: right;\">\n",
       "      <th></th>\n",
       "      <th>Produto</th>\n",
       "      <th>Preço</th>\n",
       "      <th>Stock</th>\n",
       "      <th>Categoria</th>\n",
       "    </tr>\n",
       "  </thead>\n",
       "  <tbody>\n",
       "    <tr>\n",
       "      <th>0</th>\n",
       "      <td>Caneta</td>\n",
       "      <td>0.50</td>\n",
       "      <td>100</td>\n",
       "      <td>Escritório</td>\n",
       "    </tr>\n",
       "    <tr>\n",
       "      <th>1</th>\n",
       "      <td>Lápis</td>\n",
       "      <td>0.30</td>\n",
       "      <td>150</td>\n",
       "      <td>Escritório</td>\n",
       "    </tr>\n",
       "    <tr>\n",
       "      <th>2</th>\n",
       "      <td>Caderno</td>\n",
       "      <td>1.20</td>\n",
       "      <td>80</td>\n",
       "      <td>Papelaria</td>\n",
       "    </tr>\n",
       "    <tr>\n",
       "      <th>3</th>\n",
       "      <td>Borracha</td>\n",
       "      <td>0.25</td>\n",
       "      <td>200</td>\n",
       "      <td>Escritório</td>\n",
       "    </tr>\n",
       "    <tr>\n",
       "      <th>4</th>\n",
       "      <td>Marcador</td>\n",
       "      <td>0.80</td>\n",
       "      <td>75</td>\n",
       "      <td>Marcadores</td>\n",
       "    </tr>\n",
       "  </tbody>\n",
       "</table>\n",
       "</div>"
      ],
      "text/plain": [
       "    Produto  Preço  Stock   Categoria\n",
       "0    Caneta   0.50    100  Escritório\n",
       "1     Lápis   0.30    150  Escritório\n",
       "2   Caderno   1.20     80   Papelaria\n",
       "3  Borracha   0.25    200  Escritório\n",
       "4  Marcador   0.80     75  Marcadores"
      ]
     },
     "execution_count": 91,
     "metadata": {},
     "output_type": "execute_result"
    }
   ],
   "source": [
    "df_pandas_nulos = pd.read_csv(\"produtos_com_nulos.csv\", sep=';', na_values='N/D')\n",
    "df_polars_nulos = pl.read_csv(\"produtos_com_nulos.csv\", separator=';', null_values='N/D')\n",
    "df_pandas_nulos.head()"
   ]
  },
  {
   "cell_type": "markdown",
   "id": "ea7a7711",
   "metadata": {},
   "source": [
    "### Exercício\n",
    "Conta os valores nulos por coluna com Pandas."
   ]
  },
  {
   "cell_type": "code",
   "execution_count": 67,
   "id": "0abd8cb6",
   "metadata": {},
   "outputs": [
    {
     "data": {
      "text/plain": [
       "Produto      0\n",
       "Preço        1\n",
       "Stock        0\n",
       "Categoria    2\n",
       "dtype: int64"
      ]
     },
     "execution_count": 67,
     "metadata": {},
     "output_type": "execute_result"
    }
   ],
   "source": [
    "df_pandas_nulos.isnull().sum()"
   ]
  },
  {
   "cell_type": "markdown",
   "id": "91be10f1",
   "metadata": {},
   "source": [
    "### Exercício\n",
    "Conta os valores nulos por coluna com Polars."
   ]
  },
  {
   "cell_type": "code",
   "execution_count": 69,
   "id": "29903a58",
   "metadata": {},
   "outputs": [
    {
     "data": {
      "text/html": [
       "<div><style>\n",
       ".dataframe > thead > tr,\n",
       ".dataframe > tbody > tr {\n",
       "  text-align: right;\n",
       "  white-space: pre-wrap;\n",
       "}\n",
       "</style>\n",
       "<small>shape: (1, 4)</small><table border=\"1\" class=\"dataframe\"><thead><tr><th>Produto</th><th>Preço</th><th>Stock</th><th>Categoria</th></tr><tr><td>u32</td><td>u32</td><td>u32</td><td>u32</td></tr></thead><tbody><tr><td>0</td><td>1</td><td>0</td><td>2</td></tr></tbody></table></div>"
      ],
      "text/plain": [
       "shape: (1, 4)\n",
       "┌─────────┬───────┬───────┬───────────┐\n",
       "│ Produto ┆ Preço ┆ Stock ┆ Categoria │\n",
       "│ ---     ┆ ---   ┆ ---   ┆ ---       │\n",
       "│ u32     ┆ u32   ┆ u32   ┆ u32       │\n",
       "╞═════════╪═══════╪═══════╪═══════════╡\n",
       "│ 0       ┆ 1     ┆ 0     ┆ 2         │\n",
       "└─────────┴───────┴───────┴───────────┘"
      ]
     },
     "execution_count": 69,
     "metadata": {},
     "output_type": "execute_result"
    }
   ],
   "source": [
    "df_polars.null_count()"
   ]
  },
  {
   "cell_type": "markdown",
   "id": "01aa8a11",
   "metadata": {},
   "source": [
    "### Exercício\n",
    "Filtra as linhas com valores nulos na coluna `Preço`."
   ]
  },
  {
   "cell_type": "code",
   "execution_count": 93,
   "id": "d6a88dc3",
   "metadata": {},
   "outputs": [
    {
     "data": {
      "text/html": [
       "<div>\n",
       "<style scoped>\n",
       "    .dataframe tbody tr th:only-of-type {\n",
       "        vertical-align: middle;\n",
       "    }\n",
       "\n",
       "    .dataframe tbody tr th {\n",
       "        vertical-align: top;\n",
       "    }\n",
       "\n",
       "    .dataframe thead th {\n",
       "        text-align: right;\n",
       "    }\n",
       "</style>\n",
       "<table border=\"1\" class=\"dataframe\">\n",
       "  <thead>\n",
       "    <tr style=\"text-align: right;\">\n",
       "      <th></th>\n",
       "      <th>Produto</th>\n",
       "      <th>Preço</th>\n",
       "      <th>Stock</th>\n",
       "      <th>Categoria</th>\n",
       "    </tr>\n",
       "  </thead>\n",
       "  <tbody>\n",
       "    <tr>\n",
       "      <th>5</th>\n",
       "      <td>Cartolina</td>\n",
       "      <td>NaN</td>\n",
       "      <td>75</td>\n",
       "      <td>Marcadores</td>\n",
       "    </tr>\n",
       "  </tbody>\n",
       "</table>\n",
       "</div>"
      ],
      "text/plain": [
       "     Produto  Preço  Stock   Categoria\n",
       "5  Cartolina    NaN     75  Marcadores"
      ]
     },
     "execution_count": 93,
     "metadata": {},
     "output_type": "execute_result"
    }
   ],
   "source": [
    "filtro_nulos_preco_pandas = df_pandas_nulos[df_pandas['Preço'].isnull()]\n",
    "filtro_nulos_preco_polars = df_polars_nulos.filter(df_polars['Preço'].is_null())\n",
    "\n",
    "filtro_nulos_preco_pandas.head(7)\n",
    "#filtro_nulos_preco_polars.head()"
   ]
  },
  {
   "cell_type": "markdown",
   "id": "0ad05aba",
   "metadata": {},
   "source": [
    "### Exercício\n",
    "Redefine a coluna `Produto` como índice."
   ]
  },
  {
   "cell_type": "code",
   "execution_count": 94,
   "id": "f0e2b8b9",
   "metadata": {},
   "outputs": [
    {
     "name": "stdout",
     "output_type": "stream",
     "text": [
      "   Produto  Preço  Stock   Categoria\n",
      "1    Lápis    0.3    150  Escritório\n",
      "2  Caderno    1.2     80   Papelaria\n"
     ]
    }
   ],
   "source": [
    "df_pandas_indexed = df_pandas.set_index('Produto')\n",
    "\n",
    "\n",
    "\n",
    "df_pandas_indexed.head(7)\n",
    "\n",
    "#print(df_pandas_indexed.loc['Caneta'])\n",
    "\n",
    "df_pandas_indexed = df_pandas_indexed.reset_index()\n",
    "\n",
    "\n",
    "print(df_pandas_indexed.iloc[1:3])\n",
    "                             "
   ]
  },
  {
   "cell_type": "markdown",
   "id": "e44a5d93",
   "metadata": {},
   "source": [
    "## Secção 3 – Detecção de Anomalias - Resoluções"
   ]
  },
  {
   "cell_type": "markdown",
   "id": "fcb7ff8a",
   "metadata": {},
   "source": [
    "### Exercício\n",
    "Filtra os produtos com `Preço` inferior a 0."
   ]
  },
  {
   "cell_type": "code",
   "execution_count": 96,
   "id": "7620041e",
   "metadata": {},
   "outputs": [
    {
     "data": {
      "text/html": [
       "<div>\n",
       "<style scoped>\n",
       "    .dataframe tbody tr th:only-of-type {\n",
       "        vertical-align: middle;\n",
       "    }\n",
       "\n",
       "    .dataframe tbody tr th {\n",
       "        vertical-align: top;\n",
       "    }\n",
       "\n",
       "    .dataframe thead th {\n",
       "        text-align: right;\n",
       "    }\n",
       "</style>\n",
       "<table border=\"1\" class=\"dataframe\">\n",
       "  <thead>\n",
       "    <tr style=\"text-align: right;\">\n",
       "      <th></th>\n",
       "      <th>Produto</th>\n",
       "      <th>Preço</th>\n",
       "      <th>Stock</th>\n",
       "      <th>Categoria</th>\n",
       "    </tr>\n",
       "  </thead>\n",
       "  <tbody>\n",
       "  </tbody>\n",
       "</table>\n",
       "</div>"
      ],
      "text/plain": [
       "Empty DataFrame\n",
       "Columns: [Produto, Preço, Stock, Categoria]\n",
       "Index: []"
      ]
     },
     "execution_count": 96,
     "metadata": {},
     "output_type": "execute_result"
    }
   ],
   "source": [
    "df_pandas[df_pandas[\"Preço\"] < 0]"
   ]
  },
  {
   "cell_type": "markdown",
   "id": "1a88d78a",
   "metadata": {},
   "source": [
    "### Exercício\n",
    "Verifica se todos os valores da coluna `Preço` são do tipo float."
   ]
  },
  {
   "cell_type": "code",
   "execution_count": 107,
   "id": "0b2db69c",
   "metadata": {},
   "outputs": [
    {
     "name": "stdout",
     "output_type": "stream",
     "text": [
      "\n",
      "Todos os preços são float: True\n"
     ]
    }
   ],
   "source": [
    "todos_float = df_pandas['Preço'].dropna().map(type).eq(float).all()\n",
    "print(f\"\\nTodos os preços são float: {todos_float}\")\n",
    "\n",
    "\n",
    "df_pandas['Preço'] = df_pandas['Preço'].astype(float)"
   ]
  },
  {
   "cell_type": "markdown",
   "id": "ed62e7ac",
   "metadata": {},
   "source": [
    "### Exercício\n",
    "Apresenta os valores únicos da coluna `Categoria`."
   ]
  },
  {
   "cell_type": "code",
   "execution_count": null,
   "id": "2d6b6623",
   "metadata": {},
   "outputs": [
    {
     "data": {
      "text/plain": [
       "array(['Escritório', 'Papelaria', 'Marcadores', nan], dtype=object)"
      ]
     },
     "execution_count": 109,
     "metadata": {},
     "output_type": "execute_result"
    }
   ],
   "source": [
    "df_pandas['Categoria'].dropna().unique()"
   ]
  },
  {
   "cell_type": "markdown",
   "id": "559609c8",
   "metadata": {},
   "source": [
    "### Exercício\n",
    "Conta a frequência de cada valor da coluna `Categoria`."
   ]
  },
  {
   "cell_type": "code",
   "execution_count": 105,
   "id": "a2e882df",
   "metadata": {},
   "outputs": [
    {
     "name": "stdout",
     "output_type": "stream",
     "text": [
      "shape: (4, 2)\n",
      "┌────────────┬────────────┐\n",
      "│ Categoria  ┆ Frequência │\n",
      "│ ---        ┆ ---        │\n",
      "│ str        ┆ u32        │\n",
      "╞════════════╪════════════╡\n",
      "│ Escritório ┆ 3          │\n",
      "│ Marcadores ┆ 2          │\n",
      "│ null       ┆ 2          │\n",
      "│ Papelaria  ┆ 1          │\n",
      "└────────────┴────────────┘\n"
     ]
    }
   ],
   "source": [
    "df_pandas[\"Categoria\"].value_counts()\n",
    "\n",
    "categoria_counts = (\n",
    "    df_polars\n",
    "    .group_by(\"Categoria\")\n",
    "    .len()\n",
    "    .sort(\"len\", descending=True)\n",
    "    .rename({\"len\": \"Frequência\"})\n",
    ")\n",
    "\n",
    "print(categoria_counts)"
   ]
  },
  {
   "cell_type": "markdown",
   "id": "beef4a01",
   "metadata": {},
   "source": [
    "## Secção 4 – Junção de Dados - Resoluções"
   ]
  },
  {
   "cell_type": "markdown",
   "id": "005eca9e",
   "metadata": {},
   "source": [
    "### Exercício\n",
    "Cria um `DataFrame` com `produto_id` e `Produto`."
   ]
  },
  {
   "cell_type": "code",
   "execution_count": 98,
   "id": "ed7375e9",
   "metadata": {},
   "outputs": [],
   "source": [
    "# Dicionário com produtos\n",
    "dados_produtos = {\n",
    "    'produto_id': [1, 2, 3, 4, 5],\n",
    "    'Produto': ['Caneta', 'Lápis', 'Caderno', 'Borracha', 'Marcador']\n",
    "}\n",
    "df_produtos = pd.DataFrame(dados_produtos)"
   ]
  },
  {
   "cell_type": "markdown",
   "id": "f8e3d3f0",
   "metadata": {},
   "source": [
    "### Exercício\n",
    "Cria um `DataFrame` com `produto_id` e `Preço`."
   ]
  },
  {
   "cell_type": "code",
   "execution_count": 99,
   "id": "daa90939",
   "metadata": {},
   "outputs": [],
   "source": [
    "dados_precos = {\n",
    "    'produto_id': [1, 2, 3, 4, 5],\n",
    "    'Preço': [0.50, 0.30, 1.20, 0.25, 0.80]\n",
    "}\n",
    "df_precos = pd.DataFrame(dados_precos)"
   ]
  },
  {
   "cell_type": "markdown",
   "id": "06bfc056",
   "metadata": {},
   "source": [
    "### Exercício\n",
    "Faz um `merge` entre os dois DataFrames com base em `produto_id`."
   ]
  },
  {
   "cell_type": "code",
   "execution_count": 110,
   "id": "c62a670c",
   "metadata": {},
   "outputs": [
    {
     "data": {
      "text/html": [
       "<div>\n",
       "<style scoped>\n",
       "    .dataframe tbody tr th:only-of-type {\n",
       "        vertical-align: middle;\n",
       "    }\n",
       "\n",
       "    .dataframe tbody tr th {\n",
       "        vertical-align: top;\n",
       "    }\n",
       "\n",
       "    .dataframe thead th {\n",
       "        text-align: right;\n",
       "    }\n",
       "</style>\n",
       "<table border=\"1\" class=\"dataframe\">\n",
       "  <thead>\n",
       "    <tr style=\"text-align: right;\">\n",
       "      <th></th>\n",
       "      <th>produto_id</th>\n",
       "      <th>Produto</th>\n",
       "      <th>Preço</th>\n",
       "    </tr>\n",
       "  </thead>\n",
       "  <tbody>\n",
       "    <tr>\n",
       "      <th>0</th>\n",
       "      <td>1</td>\n",
       "      <td>Caneta</td>\n",
       "      <td>0.50</td>\n",
       "    </tr>\n",
       "    <tr>\n",
       "      <th>1</th>\n",
       "      <td>2</td>\n",
       "      <td>Lápis</td>\n",
       "      <td>0.30</td>\n",
       "    </tr>\n",
       "    <tr>\n",
       "      <th>2</th>\n",
       "      <td>3</td>\n",
       "      <td>Caderno</td>\n",
       "      <td>1.20</td>\n",
       "    </tr>\n",
       "    <tr>\n",
       "      <th>3</th>\n",
       "      <td>4</td>\n",
       "      <td>Borracha</td>\n",
       "      <td>0.25</td>\n",
       "    </tr>\n",
       "    <tr>\n",
       "      <th>4</th>\n",
       "      <td>5</td>\n",
       "      <td>Marcador</td>\n",
       "      <td>0.80</td>\n",
       "    </tr>\n",
       "  </tbody>\n",
       "</table>\n",
       "</div>"
      ],
      "text/plain": [
       "   produto_id   Produto  Preço\n",
       "0           1    Caneta   0.50\n",
       "1           2     Lápis   0.30\n",
       "2           3   Caderno   1.20\n",
       "3           4  Borracha   0.25\n",
       "4           5  Marcador   0.80"
      ]
     },
     "execution_count": 110,
     "metadata": {},
     "output_type": "execute_result"
    }
   ],
   "source": [
    "import pandas as pd\n",
    "\n",
    "df_merged = pd.merge(df_produtos, df_precos, on='produto_id')\n",
    "df_merged"
   ]
  },
  {
   "cell_type": "markdown",
   "id": "69be44df",
   "metadata": {},
   "source": [
    "### Exercício\n",
    "Repete a junção com os métodos `inner`, `left` e `outer`."
   ]
  },
  {
   "cell_type": "code",
   "execution_count": 111,
   "id": "257bb525",
   "metadata": {},
   "outputs": [],
   "source": [
    "merge_inner = pd.merge(df_produtos, df_precos, on='produto_id', how='inner')\n",
    "merge_left = pd.merge(df_produtos, df_precos, on='produto_id', how='left')\n",
    "merge_outer = pd.merge(df_produtos, df_precos, on='produto_id', how='outer')"
   ]
  },
  {
   "cell_type": "markdown",
   "id": "3b1c29f3",
   "metadata": {},
   "source": [
    "### Exercício\n",
    "Realiza a mesma junção com Polars."
   ]
  },
  {
   "cell_type": "code",
   "execution_count": 115,
   "id": "79348071",
   "metadata": {},
   "outputs": [
    {
     "name": "stdout",
     "output_type": "stream",
     "text": [
      "INNER JOIN:\n",
      " shape: (5, 3)\n",
      "┌────────────┬──────────┬───────┐\n",
      "│ produto_id ┆ Produto  ┆ Preço │\n",
      "│ ---        ┆ ---      ┆ ---   │\n",
      "│ i64        ┆ str      ┆ f64   │\n",
      "╞════════════╪══════════╪═══════╡\n",
      "│ 1          ┆ Caneta   ┆ 0.5   │\n",
      "│ 2          ┆ Lápis    ┆ 0.3   │\n",
      "│ 3          ┆ Caderno  ┆ 1.2   │\n",
      "│ 4          ┆ Borracha ┆ 0.25  │\n",
      "│ 5          ┆ Marcador ┆ 0.8   │\n",
      "└────────────┴──────────┴───────┘\n",
      "\n",
      "LEFT JOIN:\n",
      " shape: (5, 3)\n",
      "┌────────────┬──────────┬───────┐\n",
      "│ produto_id ┆ Produto  ┆ Preço │\n",
      "│ ---        ┆ ---      ┆ ---   │\n",
      "│ i64        ┆ str      ┆ f64   │\n",
      "╞════════════╪══════════╪═══════╡\n",
      "│ 1          ┆ Caneta   ┆ 0.5   │\n",
      "│ 2          ┆ Lápis    ┆ 0.3   │\n",
      "│ 3          ┆ Caderno  ┆ 1.2   │\n",
      "│ 4          ┆ Borracha ┆ 0.25  │\n",
      "│ 5          ┆ Marcador ┆ 0.8   │\n",
      "└────────────┴──────────┴───────┘\n",
      "\n",
      "OUTER JOIN:\n",
      " shape: (5, 4)\n",
      "┌────────────┬──────────┬──────────────────┬───────┐\n",
      "│ produto_id ┆ Produto  ┆ produto_id_right ┆ Preço │\n",
      "│ ---        ┆ ---      ┆ ---              ┆ ---   │\n",
      "│ i64        ┆ str      ┆ i64              ┆ f64   │\n",
      "╞════════════╪══════════╪══════════════════╪═══════╡\n",
      "│ 1          ┆ Caneta   ┆ 1                ┆ 0.5   │\n",
      "│ 2          ┆ Lápis    ┆ 2                ┆ 0.3   │\n",
      "│ 3          ┆ Caderno  ┆ 3                ┆ 1.2   │\n",
      "│ 4          ┆ Borracha ┆ 4                ┆ 0.25  │\n",
      "│ 5          ┆ Marcador ┆ 5                ┆ 0.8   │\n",
      "└────────────┴──────────┴──────────────────┴───────┘\n"
     ]
    },
    {
     "name": "stderr",
     "output_type": "stream",
     "text": [
      "C:\\Users\\Liliana Oliveira\\AppData\\Local\\Temp\\ipykernel_13964\\3327170224.py:19: DeprecationWarning: Use of `how='outer'` should be replaced with `how='full'`.\n",
      "  merge_outer = df_produtos.join(df_precos, on='produto_id', how='outer')\n"
     ]
    }
   ],
   "source": [
    "\n",
    "# DataFrames base\n",
    "df_produtos = pl.DataFrame({\n",
    "    'produto_id': [1, 2, 3, 4, 5],\n",
    "    'Produto': ['Caneta', 'Lápis', 'Caderno', 'Borracha', 'Marcador']\n",
    "})\n",
    "\n",
    "df_precos = pl.DataFrame({\n",
    "    'produto_id': [1, 2, 3, 4, 5],\n",
    "    'Preço': [0.50, 0.30, 1.20, 0.25, 0.80]\n",
    "})\n",
    "\n",
    "# merge_inner\n",
    "merge_inner = df_produtos.join(df_precos, on='produto_id', how='inner')\n",
    "\n",
    "# merge_left\n",
    "merge_left = df_produtos.join(df_precos, on='produto_id', how='left')\n",
    "\n",
    "# merge_outer\n",
    "merge_outer = df_produtos.join(df_precos, on='produto_id', how='outer')\n",
    "\n",
    "# Mostrar resultados\n",
    "print(\"INNER JOIN:\\n\", merge_inner)\n",
    "print(\"\\nLEFT JOIN:\\n\", merge_left)\n",
    "print(\"\\nOUTER JOIN:\\n\", merge_outer)\n"
   ]
  },
  {
   "cell_type": "markdown",
   "id": "ac4d177d",
   "metadata": {},
   "source": [
    "## Secção 5 – Concatenação de Dados - Resoluções"
   ]
  },
  {
   "cell_type": "markdown",
   "id": "ac5b5e0b",
   "metadata": {},
   "source": [
    "### Exercício\n",
    "Cria dois `DataFrames` com produtos diferentes e concatena-os verticalmente."
   ]
  },
  {
   "cell_type": "code",
   "execution_count": 116,
   "id": "4a7a5974",
   "metadata": {},
   "outputs": [
    {
     "data": {
      "text/html": [
       "<div>\n",
       "<style scoped>\n",
       "    .dataframe tbody tr th:only-of-type {\n",
       "        vertical-align: middle;\n",
       "    }\n",
       "\n",
       "    .dataframe tbody tr th {\n",
       "        vertical-align: top;\n",
       "    }\n",
       "\n",
       "    .dataframe thead th {\n",
       "        text-align: right;\n",
       "    }\n",
       "</style>\n",
       "<table border=\"1\" class=\"dataframe\">\n",
       "  <thead>\n",
       "    <tr style=\"text-align: right;\">\n",
       "      <th></th>\n",
       "      <th>Produto</th>\n",
       "      <th>Preço</th>\n",
       "    </tr>\n",
       "  </thead>\n",
       "  <tbody>\n",
       "    <tr>\n",
       "      <th>0</th>\n",
       "      <td>Caneta</td>\n",
       "      <td>0.5</td>\n",
       "    </tr>\n",
       "    <tr>\n",
       "      <th>1</th>\n",
       "      <td>Lápis</td>\n",
       "      <td>0.3</td>\n",
       "    </tr>\n",
       "  </tbody>\n",
       "</table>\n",
       "</div>"
      ],
      "text/plain": [
       "  Produto  Preço\n",
       "0  Caneta    0.5\n",
       "1   Lápis    0.3"
      ]
     },
     "execution_count": 116,
     "metadata": {},
     "output_type": "execute_result"
    }
   ],
   "source": [
    "import pandas as pd\n",
    "df1 = pd.DataFrame({'Produto': ['Caneta'], 'Preço': [0.5]})\n",
    "df2 = pd.DataFrame({'Produto': ['Lápis'], 'Preço': [0.3]})\n",
    "df_concat = pd.concat([df1, df2], ignore_index=True)\n",
    "df_concat"
   ]
  },
  {
   "cell_type": "markdown",
   "id": "73d1251d",
   "metadata": {},
   "source": [
    "### Exercício\n",
    "Junta dois `DataFrames` com colunas complementares horizontalmente."
   ]
  },
  {
   "cell_type": "code",
   "execution_count": 113,
   "id": "ba15ebcb",
   "metadata": {},
   "outputs": [
    {
     "data": {
      "text/html": [
       "<div>\n",
       "<style scoped>\n",
       "    .dataframe tbody tr th:only-of-type {\n",
       "        vertical-align: middle;\n",
       "    }\n",
       "\n",
       "    .dataframe tbody tr th {\n",
       "        vertical-align: top;\n",
       "    }\n",
       "\n",
       "    .dataframe thead th {\n",
       "        text-align: right;\n",
       "    }\n",
       "</style>\n",
       "<table border=\"1\" class=\"dataframe\">\n",
       "  <thead>\n",
       "    <tr style=\"text-align: right;\">\n",
       "      <th></th>\n",
       "      <th>Produto</th>\n",
       "      <th>Preço</th>\n",
       "    </tr>\n",
       "  </thead>\n",
       "  <tbody>\n",
       "    <tr>\n",
       "      <th>0</th>\n",
       "      <td>Caneta</td>\n",
       "      <td>0.5</td>\n",
       "    </tr>\n",
       "    <tr>\n",
       "      <th>1</th>\n",
       "      <td>Lápis</td>\n",
       "      <td>0.3</td>\n",
       "    </tr>\n",
       "  </tbody>\n",
       "</table>\n",
       "</div>"
      ],
      "text/plain": [
       "  Produto  Preço\n",
       "0  Caneta    0.5\n",
       "1   Lápis    0.3"
      ]
     },
     "execution_count": 113,
     "metadata": {},
     "output_type": "execute_result"
    }
   ],
   "source": [
    "df_esq = pd.DataFrame({'Produto': ['Caneta', 'Lápis']})\n",
    "df_dir = pd.DataFrame({'Preço': [0.50, 0.30]})\n",
    "concat_horizontal = pd.concat([df_esq, df_dir], axis=1)\n",
    "concat_horizontal"
   ]
  },
  {
   "cell_type": "markdown",
   "id": "25ecf41e",
   "metadata": {},
   "source": [
    "### Exercício\n",
    "Realiza a concatenação equivalente com Polars."
   ]
  },
  {
   "cell_type": "code",
   "execution_count": 114,
   "id": "f1d061a1",
   "metadata": {},
   "outputs": [
    {
     "data": {
      "text/html": [
       "<div>\n",
       "<style scoped>\n",
       "    .dataframe tbody tr th:only-of-type {\n",
       "        vertical-align: middle;\n",
       "    }\n",
       "\n",
       "    .dataframe tbody tr th {\n",
       "        vertical-align: top;\n",
       "    }\n",
       "\n",
       "    .dataframe thead th {\n",
       "        text-align: right;\n",
       "    }\n",
       "</style>\n",
       "<table border=\"1\" class=\"dataframe\">\n",
       "  <thead>\n",
       "    <tr style=\"text-align: right;\">\n",
       "      <th></th>\n",
       "      <th>Produto</th>\n",
       "      <th>Preço</th>\n",
       "    </tr>\n",
       "  </thead>\n",
       "  <tbody>\n",
       "    <tr>\n",
       "      <th>0</th>\n",
       "      <td>Caneta</td>\n",
       "      <td>0.5</td>\n",
       "    </tr>\n",
       "    <tr>\n",
       "      <th>1</th>\n",
       "      <td>Lápis</td>\n",
       "      <td>0.3</td>\n",
       "    </tr>\n",
       "  </tbody>\n",
       "</table>\n",
       "</div>"
      ],
      "text/plain": [
       "  Produto  Preço\n",
       "0  Caneta    0.5\n",
       "1   Lápis    0.3"
      ]
     },
     "execution_count": 114,
     "metadata": {},
     "output_type": "execute_result"
    }
   ],
   "source": [
    "import pandas as pd\n",
    "df1 = pd.DataFrame({'Produto': ['Caneta'], 'Preço': [0.5]})\n",
    "df2 = pd.DataFrame({'Produto': ['Lápis'], 'Preço': [0.3]})\n",
    "df_concat = pd.concat([df1, df2], ignore_index=True)\n",
    "df_concat"
   ]
  },
  {
   "cell_type": "markdown",
   "id": "678711b7",
   "metadata": {},
   "source": [
    "## Secção 6 – Leitura de Ficheiros Excel - Resoluções"
   ]
  },
  {
   "cell_type": "markdown",
   "id": "3bfea002",
   "metadata": {},
   "source": [
    "### Exercício\n",
    "Lê apenas a folha `Janeiro` do ficheiro `vendas.xlsx`."
   ]
  },
  {
   "cell_type": "code",
   "execution_count": null,
   "id": "766b162c",
   "metadata": {},
   "outputs": [
    {
     "data": {
      "text/html": [
       "<div>\n",
       "<style scoped>\n",
       "    .dataframe tbody tr th:only-of-type {\n",
       "        vertical-align: middle;\n",
       "    }\n",
       "\n",
       "    .dataframe tbody tr th {\n",
       "        vertical-align: top;\n",
       "    }\n",
       "\n",
       "    .dataframe thead th {\n",
       "        text-align: right;\n",
       "    }\n",
       "</style>\n",
       "<table border=\"1\" class=\"dataframe\">\n",
       "  <thead>\n",
       "    <tr style=\"text-align: right;\">\n",
       "      <th></th>\n",
       "      <th>Produto</th>\n",
       "      <th>Quantidade</th>\n",
       "      <th>Preço Unitário</th>\n",
       "    </tr>\n",
       "  </thead>\n",
       "  <tbody>\n",
       "    <tr>\n",
       "      <th>0</th>\n",
       "      <td>Caneta</td>\n",
       "      <td>20</td>\n",
       "      <td>0.5</td>\n",
       "    </tr>\n",
       "    <tr>\n",
       "      <th>1</th>\n",
       "      <td>Lápis</td>\n",
       "      <td>35</td>\n",
       "      <td>0.3</td>\n",
       "    </tr>\n",
       "    <tr>\n",
       "      <th>2</th>\n",
       "      <td>Caderno</td>\n",
       "      <td>15</td>\n",
       "      <td>1.2</td>\n",
       "    </tr>\n",
       "  </tbody>\n",
       "</table>\n",
       "</div>"
      ],
      "text/plain": [
       "   Produto  Quantidade  Preço Unitário\n",
       "0   Caneta          20             0.5\n",
       "1    Lápis          35             0.3\n",
       "2  Caderno          15             1.2"
      ]
     },
     "execution_count": 28,
     "metadata": {},
     "output_type": "execute_result"
    }
   ],
   "source": [
    "import pandas as pd\n",
    "df = pd.read_excel(\"vendas.xlsx\", sheet_name=\"Janeiro\")\n",
    "df.head()"
   ]
  },
  {
   "cell_type": "markdown",
   "id": "0240be2a",
   "metadata": {},
   "source": [
    "### Exercício\n",
    "Lê apenas as colunas `Produto` e `Quantidade` da folha `Fevereiro`."
   ]
  },
  {
   "cell_type": "code",
   "execution_count": 117,
   "id": "162aab36",
   "metadata": {},
   "outputs": [
    {
     "name": "stdout",
     "output_type": "stream",
     "text": [
      "    Produto  Quantidade\n",
      "0    Caneta          18\n",
      "1  Marcador          12\n",
      "2  Borracha          25\n"
     ]
    }
   ],
   "source": [
    "\n",
    "df_fevereiro = pd.read_excel(\"vendas.xlsx\", sheet_name=\"Fevereiro\", usecols=[\"Produto\", \"Quantidade\"])\n",
    "print(df_fevereiro)"
   ]
  },
  {
   "cell_type": "markdown",
   "id": "037a9df1",
   "metadata": {},
   "source": [
    "### Exercício\n",
    "Lê apenas as primeiras 2 linhas da folha `Março`."
   ]
  },
  {
   "cell_type": "code",
   "execution_count": 118,
   "id": "54b0ed42",
   "metadata": {},
   "outputs": [
    {
     "name": "stdout",
     "output_type": "stream",
     "text": [
      "   Produto  Quantidade  Preço Unitário\n",
      "0  Caderno          10             1.2\n",
      "1    Lápis          40             0.3\n"
     ]
    }
   ],
   "source": [
    "df_marco = pd.read_excel(\"vendas.xlsx\", sheet_name=\"Março\", nrows=2)\n",
    "print(df_marco)"
   ]
  },
  {
   "cell_type": "markdown",
   "id": "f14e1446",
   "metadata": {},
   "source": [
    "### Exercício\n",
    "Lê todas as folhas do ficheiro `vendas.xlsx` e concatena os dados num único `DataFrame`."
   ]
  },
  {
   "cell_type": "code",
   "execution_count": 119,
   "id": "5cf984d5",
   "metadata": {},
   "outputs": [
    {
     "name": "stdout",
     "output_type": "stream",
     "text": [
      "    Produto  Quantidade  Preço Unitário        Mês\n",
      "0    Caneta          20            0.50    Janeiro\n",
      "1     Lápis          35            0.30    Janeiro\n",
      "2   Caderno          15            1.20    Janeiro\n",
      "3    Caneta          18            0.50  Fevereiro\n",
      "4  Marcador          12            0.80  Fevereiro\n",
      "5  Borracha          25            0.25  Fevereiro\n",
      "6   Caderno          10            1.20      Março\n",
      "7     Lápis          40            0.30      Março\n",
      "8  Marcador          20            0.80      Março\n"
     ]
    }
   ],
   "source": [
    "excel_dict = pd.read_excel(\"vendas.xlsx\", sheet_name=None)  # Lê todas as folhas\n",
    "dfs_com_mes = []\n",
    "\n",
    "for nome_folha, df in excel_dict.items():\n",
    "    df['Mês'] = nome_folha  # Adiciona nome da folha como coluna\n",
    "    dfs_com_mes.append(df)\n",
    "\n",
    "df_todos = pd.concat(dfs_com_mes, ignore_index=True)\n",
    "print(df_todos)"
   ]
  },
  {
   "cell_type": "markdown",
   "id": "68d76582",
   "metadata": {},
   "source": [
    "### Exercício\n",
    "Adiciona uma coluna `Mês` com o nome da folha de origem."
   ]
  },
  {
   "cell_type": "code",
   "execution_count": 120,
   "id": "b564dc47",
   "metadata": {},
   "outputs": [
    {
     "name": "stdout",
     "output_type": "stream",
     "text": [
      "    Produto  Quantidade  Preço Unitário        Mês\n",
      "0    Caneta          20            0.50    Janeiro\n",
      "1     Lápis          35            0.30    Janeiro\n",
      "2   Caderno          15            1.20    Janeiro\n",
      "3    Caneta          18            0.50  Fevereiro\n",
      "4  Marcador          12            0.80  Fevereiro\n",
      "5  Borracha          25            0.25  Fevereiro\n",
      "6   Caderno          10            1.20      Março\n",
      "7     Lápis          40            0.30      Março\n",
      "8  Marcador          20            0.80      Março\n"
     ]
    }
   ],
   "source": [
    "excel_dict = pd.read_excel(\"vendas.xlsx\", sheet_name=None)  # Lê todas as folhas\n",
    "dfs_com_mes = []\n",
    "\n",
    "for nome_folha, df in excel_dict.items():\n",
    "    df['Mês'] = nome_folha  # Adiciona nome da folha como coluna\n",
    "    dfs_com_mes.append(df)\n",
    "\n",
    "df_todos = pd.concat(dfs_com_mes, ignore_index=True)\n",
    "print(df_todos)"
   ]
  },
  {
   "cell_type": "markdown",
   "id": "f13e305c",
   "metadata": {},
   "source": [
    "### Exercício\n",
    "Converte a folha `Janeiro` para `Polars`."
   ]
  },
  {
   "cell_type": "code",
   "execution_count": 121,
   "id": "94674653",
   "metadata": {},
   "outputs": [
    {
     "name": "stdout",
     "output_type": "stream",
     "text": [
      "shape: (3, 3)\n",
      "┌─────────┬────────────┬────────────────┐\n",
      "│ Produto ┆ Quantidade ┆ Preço Unitário │\n",
      "│ ---     ┆ ---        ┆ ---            │\n",
      "│ str     ┆ i64        ┆ f64            │\n",
      "╞═════════╪════════════╪════════════════╡\n",
      "│ Caneta  ┆ 20         ┆ 0.5            │\n",
      "│ Lápis   ┆ 35         ┆ 0.3            │\n",
      "│ Caderno ┆ 15         ┆ 1.2            │\n",
      "└─────────┴────────────┴────────────────┘\n"
     ]
    }
   ],
   "source": [
    "df_janeiro_pd = pd.read_excel(\"vendas.xlsx\", sheet_name=\"Janeiro\")\n",
    "df_janeiro_pl = pl.from_pandas(df_janeiro_pd)\n",
    "\n",
    "print(df_janeiro_pl)"
   ]
  },
  {
   "cell_type": "markdown",
   "id": "88661e15",
   "metadata": {},
   "source": [
    "### Exercício\n",
    "Verifica os tipos de dados das colunas da folha `Janeiro`."
   ]
  },
  {
   "cell_type": "code",
   "execution_count": 122,
   "id": "0880115c",
   "metadata": {},
   "outputs": [
    {
     "data": {
      "text/plain": [
       "Produto            object\n",
       "Quantidade          int64\n",
       "Preço Unitário    float64\n",
       "dtype: object"
      ]
     },
     "execution_count": 122,
     "metadata": {},
     "output_type": "execute_result"
    }
   ],
   "source": [
    "df_janeiro = pd.read_excel(\"vendas.xlsx\", sheet_name=\"Janeiro\")\n",
    "\n",
    "# Verificar os tipos de dados das colunas\n",
    "tipos_dados_janeiro = df_janeiro.dtypes\n",
    "\n",
    "tipos_dados_janeiro"
   ]
  },
  {
   "cell_type": "markdown",
   "id": "402814d3",
   "metadata": {},
   "source": [
    "#open the exceel file and count the number of sheets in the excel file\n",
    "import openpyxl\n",
    "workbook = openpyxl.load_workbook(filename='vendas.xlsx')\n",
    "sheet_count = len(workbook.sheetnames)\n",
    "\n",
    "\n",
    "#loop through the sheets and print the name of each sheet\n",
    "for sheet in workbook.sheetnames:\n",
    "    \n",
    "    df = pd.read_excel(r'vendas.xlsx', sheet_name=sheet)\n",
    "    df['Month'] = sheet  # Add a new column with the sheet name\n",
    "    df_new = pd.concat([df_new, df], ignore_index=True)"
   ]
  }
 ],
 "metadata": {
  "kernelspec": {
   "display_name": "Python 3",
   "language": "python",
   "name": "python3"
  },
  "language_info": {
   "codemirror_mode": {
    "name": "ipython",
    "version": 3
   },
   "file_extension": ".py",
   "mimetype": "text/x-python",
   "name": "python",
   "nbconvert_exporter": "python",
   "pygments_lexer": "ipython3",
   "version": "3.13.2"
  }
 },
 "nbformat": 4,
 "nbformat_minor": 5
}
