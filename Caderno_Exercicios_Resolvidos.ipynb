{
 "cells": [
  {
   "cell_type": "markdown",
   "id": "89700a52",
   "metadata": {},
   "source": [
    "M\n"
   ]
  }
 ],
 "metadata": {
  "language_info": {
   "name": "python"
  }
 },
 "nbformat": 4,
 "nbformat_minor": 5
}
