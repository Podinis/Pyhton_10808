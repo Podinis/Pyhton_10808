{
 "cells": [
  {
   "cell_type": "markdown",
   "id": "c3c08a1e",
   "metadata": {},
   "source": [
    "# UFCD 10808 - Sessão 01\n",
    "## Teoria e Exercícios"
   ]
  },
  {
   "cell_type": "markdown",
   "id": "a15bb19f",
   "metadata": {},
   "source": [
    "### Objetivos:\n",
    "- Apresentar formador e formandos\n",
    "- Apresentar objetivos e conteúdos da UFCD\n",
    "- Preparar ambiente de trabalho\n",
    "- Instalar bibliotecas\n",
    "- Criar o primeiro notebook"
   ]
  },
  {
   "cell_type": "code",
   "execution_count": 1,
   "id": "69dea709",
   "metadata": {},
   "outputs": [
    {
     "name": "stdout",
     "output_type": "stream",
     "text": [
      "Python 3.13.2\n"
     ]
    }
   ],
   "source": [
    "# Verificar versão do Python\n",
    "!python --version"
   ]
  },
  {
   "cell_type": "code",
   "execution_count": null,
   "id": "37256b9b",
   "metadata": {},
   "outputs": [],
   "source": [
    "# Instalar bibliotecas (executar apenas se necessário)\n",
    "# !pip install pandas polars numpy scikit-learn jupyter\n",
    "\n"
   ]
  },
  {
   "cell_type": "code",
   "execution_count": 3,
   "id": "61c65c38",
   "metadata": {},
   "outputs": [
    {
     "name": "stdout",
     "output_type": "stream",
     "text": [
      "Hello, Data!\n"
     ]
    }
   ],
   "source": [
    "# Importar bibliotecas principais\n",
    "import pandas as pd\n",
    "import polars as pl\n",
    "import numpy as np\n",
    "from sklearn import preprocessing\n",
    "\n",
    "print('Hello, Data!')"
   ]
  },
  {
   "cell_type": "code",
   "execution_count": null,
   "id": "c061d15c",
   "metadata": {},
   "outputs": [],
   "source": [
    "# Estruturas básicas\n",
    "lista = [1, 2, 3, 4, 5]\n",
    "print(lista)\n",
    "\n",
    "array = np.array([1, 2, 3, 4, 5])\n",
    "print(array)\n",
    "\n",
    "df_pandas = pd.DataFrame({'valores': [1, 2, 3, 4, 5]})\n",
    "print(df_pandas)\n",
    "\n",
    "df_polars = pl.DataFrame({'valores': [1, 2, 3, 4, 5]})\n",
    "print(df_polars)"
   ]
  },
  {
   "cell_type": "markdown",
   "id": "0bb0b562",
   "metadata": {},
   "source": [
    "### Exercícios:\n",
    "1. Crie um array NumPy com os números de 10 a 20.\n",
    "2. Crie um DataFrame Pandas com uma coluna 'nomes' contendo 5 nomes fictícios.\n",
    "3. Crie um DataFrame Polars com uma coluna 'idades' contendo 5 idades.\n",
    "4. Instale o pacote `openpyxl` usando pip."
   ]
  },
  {
   "cell_type": "code",
   "execution_count": 4,
   "id": "ff5bea93",
   "metadata": {},
   "outputs": [
    {
     "name": "stdout",
     "output_type": "stream",
     "text": [
      "[10 11 12 13 14 15 16 17 18 19 20]\n"
     ]
    }
   ],
   "source": [
    "## 1. Crie um array NumPy com os números de 10 a 20.\n",
    "\n",
    "array_numeros = np.arange(10, 21)\n",
    "print(array_numeros)"
   ]
  },
  {
   "cell_type": "code",
   "execution_count": 5,
   "id": "9fb114b6",
   "metadata": {},
   "outputs": [
    {
     "name": "stdout",
     "output_type": "stream",
     "text": [
      "['Alice', 'Barbara', 'Carlos', 'David', 'Eva']\n"
     ]
    }
   ],
   "source": [
    "## 2. Crie um DataFrame Pandas com uma coluna 'nomes' contendo 5 nomes fictícios.\n",
    "\n",
    "nomes = ['Alice', 'Barbara', 'Carlos', 'David', 'Eva']\n",
    "print(nomes)"
   ]
  },
  {
   "cell_type": "code",
   "execution_count": null,
   "id": "307709f7",
   "metadata": {},
   "outputs": [
    {
     "name": "stdout",
     "output_type": "stream",
     "text": [
      "[25 19 44 58 31]\n",
      "shape: (5, 1)\n",
      "┌────────┐\n",
      "│ idades │\n",
      "│ ---    │\n",
      "│ i32    │\n",
      "╞════════╡\n",
      "│ 19     │\n",
      "│ 25     │\n",
      "│ 31     │\n",
      "│ 44     │\n",
      "│ 58     │\n",
      "└────────┘\n"
     ]
    }
   ],
   "source": [
    "## 3. Crie um DataFrame Polars com uma coluna 'idades' contendo 5 idades.\n",
    "\n",
    "array_idades= np.random.randint(18, 60, size=5) ## Gerar 5 idades aleatórias entre 18 e 60\n",
    "print (array_idades) ## Ver numeros gerados aleatoriamente\n",
    "df_polars = pl.DataFrame({'idades': array_idades}) #adiciona coluna idades ao dataframe polars com o array gerado\n",
    "\n",
    "df_polars = df_polars.sort('idades') #ordena o dataframe polars pela coluna idades\n",
    "print(df_polars.head()) #mostra as 5 primeiras linhas do dataframe polars"
   ]
  },
  {
   "cell_type": "code",
   "execution_count": null,
   "id": "be7409f6",
   "metadata": {},
   "outputs": [
    {
     "name": "stdout",
     "output_type": "stream",
     "text": [
      "Pacote 'openpyxl' instalado com sucesso.\n"
     ]
    },
    {
     "ename": "",
     "evalue": "",
     "output_type": "error",
     "traceback": [
      "\u001b[1;31mThe Kernel crashed while executing code in the current cell or a previous cell. \n",
      "\u001b[1;31mPlease review the code in the cell(s) to identify a possible cause of the failure. \n",
      "\u001b[1;31mClick <a href='https://aka.ms/vscodeJupyterKernelCrash'>here</a> for more info. \n",
      "\u001b[1;31mView Jupyter <a href='command:jupyter.viewOutput'>log</a> for further details."
     ]
    }
   ],
   "source": [
    "## 4. Instale o pacote `openpyxl` usando pip.\n",
    "#!pip install openpyxl"
   ]
  }
 ],
 "metadata": {
  "kernelspec": {
   "display_name": "Python 3",
   "language": "python",
   "name": "python3"
  },
  "language_info": {
   "codemirror_mode": {
    "name": "ipython",
    "version": 3
   },
   "file_extension": ".py",
   "mimetype": "text/x-python",
   "name": "python",
   "nbconvert_exporter": "python",
   "pygments_lexer": "ipython3",
   "version": "3.13.2"
  }
 },
 "nbformat": 4,
 "nbformat_minor": 5
}
