{
 "cells": [
  {
   "cell_type": "markdown",
   "id": "e0982613",
   "metadata": {},
   "source": [
    "### Arrays com Numpy, uma biblioteca altamente eficiente para operações numéricas vetorizadas\n",
    "\n"
   ]
  },
  {
   "cell_type": "markdown",
   "id": "9782c134",
   "metadata": {},
   "source": [
    "#### Combinação de Dados: merge() e concat()\n",
    "\n",
    "Pandas - pd.merge()"
   ]
  },
  {
   "cell_type": "code",
   "execution_count": null,
   "id": "927d0219",
   "metadata": {},
   "outputs": [],
   "source": [
    "import pandas as pd\n",
    "produtos =pd.DataFrame({\n",
    "    'produto_id':[1, 2, 3],\n",
    "    'nome':['Caneta','Lapis','Caderno']\n",
    "})\n",
    "precos =pd.DataFrame({\n",
    "    'produto_id':[2,3,4],\n",
    "    'nome':[0.30,1.20,0.80]\n",
    "})\n",
    "df_merge=pd.merge(produtos,precos, on='produto_id',how='inner')\n",
    "\n",
    "print (df_merge)"
   ]
  },
  {
   "cell_type": "markdown",
   "id": "57c2a0ad",
   "metadata": {},
   "source": [
    "Pandas- pd.concat()"
   ]
  },
  {
   "cell_type": "code",
   "execution_count": 11,
   "id": "39193eae",
   "metadata": {},
   "outputs": [
    {
     "name": "stdout",
     "output_type": "stream",
     "text": [
      "   Produto  Preço\n",
      "0   Caneta    0.5\n",
      "1    Lápis    0.3\n",
      "2  Laranja    1.2\n",
      "3     Maça    2.5\n"
     ]
    }
   ],
   "source": [
    "import pandas as pd\n",
    "df_a = pd.DataFrame({'Produto': ['Caneta', 'Lápis'], 'Preço':\n",
    "[0.5, 0.3]})\n",
    "df_b = pd.DataFrame({'Produto': ['Laranja','Maça'], 'Preço': [1.2,2.5]})\n",
    "df_concatenado = pd.concat([df_a, df_b], ignore_index=True)\n",
    "\n",
    "\n",
    "print (df_concatenado)"
   ]
  }
 ],
 "metadata": {
  "kernelspec": {
   "display_name": "Python 3",
   "language": "python",
   "name": "python3"
  },
  "language_info": {
   "codemirror_mode": {
    "name": "ipython",
    "version": 3
   },
   "file_extension": ".py",
   "mimetype": "text/x-python",
   "name": "python",
   "nbconvert_exporter": "python",
   "pygments_lexer": "ipython3",
   "version": "3.13.2"
  }
 },
 "nbformat": 4,
 "nbformat_minor": 5
}
