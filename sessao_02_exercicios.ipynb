{
 "cells": [
  {
   "cell_type": "code",
   "execution_count": 1,
   "id": "79071e8d",
   "metadata": {},
   "outputs": [],
   "source": [
    "# Importar bibliotecas principais\n",
    "import pandas as pd\n",
    "import polars as pl\n",
    "import numpy as np"
   ]
  },
  {
   "cell_type": "markdown",
   "id": "e1ad3f61",
   "metadata": {},
   "source": [
    "## Secção 1 – Visualização Inicial de Dados"
   ]
  },
  {
   "cell_type": "code",
   "execution_count": null,
   "id": "8a7c17e9",
   "metadata": {},
   "outputs": [],
   "source": [
    "# 1. Lê o ficheiro produtos.csv com ; como separador usando Pandas.\n",
    "\n",
    "# Leitura com separador ;\n",
    "produtos_pandas = pd.read_csv(r'C:\\Users\\HP\\Desktop\\Formação\\Eisnt\\UFCD 10808 - Limpeza e transformação de dados em Python\\produtos.csv', sep=';', na_values=[\"N/D\", \"NA\"], encoding=\"utf-8\")\n",
    "\n",
    "#Analisar os tipos de dados\n",
    "#produtos_pandas.info()\n",
    "# Verificar os valores nulos\n",
    "produtos_pandas.isnull().sum()\n"
   ]
  },
  {
   "cell_type": "code",
   "execution_count": null,
   "id": "86db3249",
   "metadata": {},
   "outputs": [],
   "source": [
    "# 2. Mostra as 5 primeiras e as 3 últimas linhas com head() e tail().\n",
    "\n",
    "# Visualizar os primeiros dados\n",
    "print(produtos_pandas.head())\n",
    "\n",
    "# Visualizar os ultimos dados\n",
    "produtos_pandas.tail()"
   ]
  },
  {
   "cell_type": "code",
   "execution_count": null,
   "id": "4132da7a",
   "metadata": {},
   "outputs": [],
   "source": [
    "# 3. Lê apenas as colunas Produto e Preço.\n",
    "\n",
    "produtos_pandas = pd.read_csv(r'C:\\Users\\HP\\Desktop\\Formação\\Eisnt\\UFCD 10808 - Limpeza e transformação de dados em Python\\produtos.csv', sep=';', usecols=[\"Produto\", \"Preço\"], na_values=[\"N/D\", \"NA\"], encoding=\"utf-8\")\n",
    "\n",
    "print(produtos_pandas.head())"
   ]
  },
  {
   "cell_type": "code",
   "execution_count": 37,
   "id": "9d5677b2",
   "metadata": {},
   "outputs": [
    {
     "name": "stdout",
     "output_type": "stream",
     "text": [
      "shape: (5, 4)\n",
      "┌──────────┬──────────┬──────────┬────────────┐\n",
      "│ column_1 ┆ column_2 ┆ column_3 ┆ column_4   │\n",
      "│ ---      ┆ ---      ┆ ---      ┆ ---        │\n",
      "│ str      ┆ f64      ┆ i64      ┆ str        │\n",
      "╞══════════╪══════════╪══════════╪════════════╡\n",
      "│ Caneta   ┆ 0.5      ┆ 100      ┆ Escritório │\n",
      "│ Lápis    ┆ 0.3      ┆ 150      ┆ Escritório │\n",
      "│ Caderno  ┆ 1.2      ┆ 80       ┆ Papelaria  │\n",
      "│ Borracha ┆ 0.25     ┆ 200      ┆ Escritório │\n",
      "│ Marcador ┆ 0.8      ┆ 75       ┆ Marcadores │\n",
      "└──────────┴──────────┴──────────┴────────────┘\n"
     ]
    }
   ],
   "source": [
    "#4. Lê o ficheiro produtos.csv com ; usando Polars, ignorando a primeira linha.\n",
    "\n",
    "produtos_polars = pl.read_csv(r'C:\\Users\\HP\\Desktop\\Formação\\Eisnt\\UFCD 10808 - Limpeza e transformação de dados em Python\\produtos.csv', separator=';',has_header=False, skip_rows=1, null_values=[\"N/D\", \"NA\"], encoding=\"utf-8\")\n",
    "\n",
    "print(produtos_polars.head())"
   ]
  },
  {
   "cell_type": "code",
   "execution_count": null,
   "id": "731ce396",
   "metadata": {},
   "outputs": [],
   "source": [
    "# 5. Lê apenas as colunas Produto e Preço com Polars.\n",
    "\n",
    "produtos_polars = pl.read_csv(r'C:\\Users\\HP\\Desktop\\Formação\\Eisnt\\UFCD 10808 - Limpeza e transformação de dados em Python\\produtos.csv', separator=';', columns=[\"Produto\", \"Preço\"])\n",
    "print(produtos_polars.head())"
   ]
  },
  {
   "cell_type": "code",
   "execution_count": null,
   "id": "96e725d0",
   "metadata": {},
   "outputs": [],
   "source": [
    "#6. Mostra o número de linhas e colunas.\n",
    "print(produtos_pandas.shape)\n",
    "print(produtos_polars.shape)"
   ]
  },
  {
   "cell_type": "code",
   "execution_count": null,
   "id": "17689646",
   "metadata": {},
   "outputs": [],
   "source": [
    "#7. Mostra os nomes das colunas.\n",
    "print(produtos_pandas.columns)\n",
    "print(produtos_polars.columns)"
   ]
  },
  {
   "cell_type": "code",
   "execution_count": null,
   "id": "1c0361b8",
   "metadata": {},
   "outputs": [],
   "source": [
    "# 8.Mostra os tipos de dados com Pandas e com Polars.\n",
    "print(produtos_pandas.dtypes)\n",
    "print()\n",
    "print(produtos_polars.dtypes)"
   ]
  },
  {
   "cell_type": "code",
   "execution_count": null,
   "id": "b31aa473",
   "metadata": {},
   "outputs": [],
   "source": [
    "# 9. Apresenta as estatísticas descritivas com describe().\n",
    "\n",
    "print(produtos_pandas.describe())\n",
    "print()\n",
    "print(produtos_polars.describe())\n"
   ]
  },
  {
   "cell_type": "markdown",
   "id": "62b88922",
   "metadata": {},
   "source": [
    "### Secção 2 – Dados Ausentes e Qualidade de Dados"
   ]
  },
  {
   "cell_type": "code",
   "execution_count": 80,
   "id": "6f513a9d",
   "metadata": {},
   "outputs": [
    {
     "name": "stdout",
     "output_type": "stream",
     "text": [
      "    Produto  Preço  Stock   Categoria\n",
      "0    Caneta   0.50  100.0  Escritório\n",
      "1     Lápis   0.30  150.0  Escritório\n",
      "2   Caderno   1.20   80.0   Papelaria\n",
      "3  Borracha   0.25  200.0  Escritório\n",
      "4  Marcador   0.80   75.0  Marcadores\n"
     ]
    }
   ],
   "source": [
    "# 10. Adiciona valores “N/D” ao ficheiro produtos.csv e lê-o tratando-os como nulos.\n",
    "\n",
    "# Adicionar uma nova linha com valores \"N/D\"\n",
    "nova_linha = pd.DataFrame([{\"Produto\": \"N/D\", \"Preço\": \"0\",\"Stock\": \"N/D\"},\n",
    "                           {\"Produto\": \"Livro\", \"Preço\": \"-2.0\",\"Stock\": \"N/D\"}])\n",
    "\n",
    "# Ler o arquivo original\n",
    "produtos_pandas = pd.read_csv(\n",
    "    r'C:\\Users\\HP\\Desktop\\Formação\\Eisnt\\UFCD 10808 - Limpeza e transformação de dados em Python\\produtos.csv',\n",
    "    sep=';',\n",
    "    encoding=\"utf-8\"\n",
    ")\n",
    "\n",
    "# Concatenar a nova linha ao DataFrame existente\n",
    "produtos_pandas = pd.concat([produtos_pandas, nova_linha], ignore_index=True)\n",
    "\n",
    "# Salvar o DataFrame atualizado de volta no arquivo\n",
    "produtos_pandas.to_csv(r'C:\\Users\\HP\\Desktop\\Formação\\Eisnt\\UFCD 10808 - Limpeza e transformação de dados em Python\\produtos.csv',sep=';',index=False,encoding=\"utf-8\")\n",
    "\n",
    "# Ler o arquivo novamente, tratando \"N/D\" como valores nulos\n",
    "produtos_pandas = pd.read_csv(r'C:\\Users\\HP\\Desktop\\Formação\\Eisnt\\UFCD 10808 - Limpeza e transformação de dados em Python\\produtos.csv', sep=';', na_values=[\"N/D\", \"NA\"], encoding=\"utf-8\")\n",
    "\n",
    "# Exibir os primeiros registros\n",
    "print(produtos_pandas.head())\n"
   ]
  },
  {
   "cell_type": "code",
   "execution_count": 81,
   "id": "1f65a943",
   "metadata": {},
   "outputs": [
    {
     "name": "stdout",
     "output_type": "stream",
     "text": [
      "Produto      3\n",
      "Preço        2\n",
      "Stock        5\n",
      "Categoria    5\n",
      "dtype: int64\n"
     ]
    }
   ],
   "source": [
    "# 11. Conta os valores nulos por coluna com Pandas.\n",
    "\n",
    "# Ler o arquivo, tratando \"N/D\" como valores nulos\n",
    "produtos_pandas = pd.read_csv(r'C:\\Users\\HP\\Desktop\\Formação\\Eisnt\\UFCD 10808 - Limpeza e transformação de dados em Python\\produtos.csv', sep=';', na_values=[\"N/D\", \"NA\"], encoding=\"utf-8\")\n",
    "print(produtos_pandas.isnull().sum())"
   ]
  },
  {
   "cell_type": "code",
   "execution_count": 82,
   "id": "c73c37ff",
   "metadata": {},
   "outputs": [
    {
     "name": "stdout",
     "output_type": "stream",
     "text": [
      "shape: (1, 4)\n",
      "┌─────────┬───────┬───────┬───────────┐\n",
      "│ Produto ┆ Preço ┆ Stock ┆ Categoria │\n",
      "│ ---     ┆ ---   ┆ ---   ┆ ---       │\n",
      "│ u32     ┆ u32   ┆ u32   ┆ u32       │\n",
      "╞═════════╪═══════╪═══════╪═══════════╡\n",
      "│ 3       ┆ 2     ┆ 5     ┆ 5         │\n",
      "└─────────┴───────┴───────┴───────────┘\n"
     ]
    }
   ],
   "source": [
    "# 12. Conta os valores nulos por coluna com Polars.\n",
    "# Ler o arquivo, tratando \"N/D\" como valores nulos\n",
    "produtos_polars = pl.read_csv(r'C:\\Users\\HP\\Desktop\\Formação\\Eisnt\\UFCD 10808 - Limpeza e transformação de dados em Python\\produtos.csv', separator=';', null_values=[\"N/D\", \"NA\"], encoding=\"utf-8\")\n",
    "\n",
    "print(produtos_polars.select(pl.all().is_null().sum()))"
   ]
  },
  {
   "cell_type": "code",
   "execution_count": 83,
   "id": "2cc7f4df",
   "metadata": {},
   "outputs": [
    {
     "name": "stdout",
     "output_type": "stream",
     "text": [
      "  Produto  Preço  Stock Categoria\n",
      "5     NaN    NaN    NaN       NaN\n",
      "6     NaN    NaN    NaN       NaN\n"
     ]
    }
   ],
   "source": [
    "# 13. Filtra as linhas com valores nulos na coluna Preço.\n",
    "\n",
    "produtos_pandas_nulos = produtos_pandas[produtos_pandas[\"Preço\"].isnull()]\n",
    "print(produtos_pandas_nulos.head())"
   ]
  },
  {
   "cell_type": "code",
   "execution_count": 86,
   "id": "009b5a9d",
   "metadata": {},
   "outputs": [
    {
     "name": "stdout",
     "output_type": "stream",
     "text": [
      "          Preço  Stock   Categoria\n",
      "Produto                           \n",
      "Caneta     0.50  100.0  Escritório\n",
      "Lápis      0.30  150.0  Escritório\n",
      "Caderno    1.20   80.0   Papelaria\n",
      "Borracha   0.25  200.0  Escritório\n",
      "Marcador   0.80   75.0  Marcadores\n"
     ]
    }
   ],
   "source": [
    "# 14. Redefine a coluna Produto como índice.\n",
    "\n",
    "# Ler o arquivo, tratando \"N/D\" como valores nulos\n",
    "produtos_pandas = pd.read_csv(r'C:\\Users\\HP\\Desktop\\Formação\\Eisnt\\UFCD 10808 - Limpeza e transformação de dados em Python\\produtos.csv', sep=';', na_values=[\"N/D\", \"NA\"], encoding=\"utf-8\")\n",
    "df_pandas_indexed = produtos_pandas.set_index('Produto')\n",
    "print(df_pandas_indexed.head())\n"
   ]
  },
  {
   "cell_type": "markdown",
   "id": "1a24c7e2",
   "metadata": {},
   "source": [
    "### Secção 3 – Detecção de Anomalias"
   ]
  },
  {
   "cell_type": "code",
   "execution_count": null,
   "id": "d90541a2",
   "metadata": {},
   "outputs": [],
   "source": [
    "# 15. Filtra os produtos com Preço inferior a 0.\n",
    "\n",
    "# Ler o arquivo, tratando \"N/D\" como valores nulos\n",
    "produtos_pandas = pd.read_csv(r'C:\\Users\\HP\\Desktop\\Formação\\Eisnt\\UFCD 10808 - Limpeza e transformação de dados em Python\\produtos.csv', sep=';', na_values=[\"N/D\", \"NA\"], encoding=\"utf-8\")\n",
    "produtos_pandas_inferior = produtos_pandas[produtos_pandas[\"Preço\"] < 0]   \n",
    "print(produtos_pandas_inferior.head())"
   ]
  },
  {
   "cell_type": "code",
   "execution_count": 106,
   "id": "17ca73d5",
   "metadata": {},
   "outputs": [
    {
     "name": "stdout",
     "output_type": "stream",
     "text": [
      "Produto      6\n",
      "Preço        6\n",
      "Stock        5\n",
      "Categoria    5\n",
      "dtype: int64\n",
      "\n",
      "Preço\n",
      "<class 'float'>    7\n",
      "Name: count, dtype: int64\n",
      "\n",
      "Todos os preços são float: True\n"
     ]
    }
   ],
   "source": [
    "# 16. Verifica se todos os valores da coluna Preço são do tipo float.\n",
    "\n",
    "# Ler o arquivo, tratando \"N/D\" como valores nulos\n",
    "produtos_pandas = pd.read_csv(r'C:\\Users\\HP\\Desktop\\Formação\\Eisnt\\UFCD 10808 - Limpeza e transformação de dados em Python\\produtos.csv', sep=';', na_values=[\"N/D\", \"NA\"], encoding=\"utf-8\")\n",
    "print(produtos_pandas.count())\n",
    "print()\n",
    "print(produtos_pandas[\"Preço\"].apply(type).value_counts())\n",
    "\n",
    "todos_float = produtos_pandas['Preço'].dropna().map(type).eq(float).all()\n",
    "\n",
    "print(f\"\\nTodos os preços são float: {todos_float}\")"
   ]
  },
  {
   "cell_type": "code",
   "execution_count": null,
   "id": "e207b263",
   "metadata": {},
   "outputs": [],
   "source": [
    "# 17. Apresenta os valores únicos da coluna Categoria.\n",
    "\n",
    "# Ler o arquivo, tratando \"N/D\" como valores nulos\n",
    "produtos_pandas = pd.read_csv(r'C:\\Users\\HP\\Desktop\\Formação\\Eisnt\\UFCD 10808 - Limpeza e transformação de dados em Python\\produtos.csv', sep=';', encoding=\"utf-8\")\n",
    "print(produtos_pandas[\"Categoria\"].unique())\n",
    "print()\n",
    "produtos_polars = pl.read_csv(r'C:\\Users\\HP\\Desktop\\Formação\\Eisnt\\UFCD 10808 - Limpeza e transformação de dados em Python\\produtos.csv', separator=';', encoding=\"utf-8\")\n",
    "print(produtos_polars.select(pl.col(\"Categoria\").unique()))"
   ]
  },
  {
   "cell_type": "code",
   "execution_count": null,
   "id": "8ad61152",
   "metadata": {},
   "outputs": [],
   "source": [
    "# 18. Conta a frequência de cada valor da coluna Categoria.\n",
    "\n",
    "# Ler o arquivo, tratando \"N/D\" como valores nulos\n",
    "produtos_pandas = pd.read_csv(r'C:\\Users\\HP\\Desktop\\Formação\\Eisnt\\UFCD 10808 - Limpeza e transformação de dados em Python\\produtos.csv', sep=';', encoding=\"utf-8\")\n",
    "print(produtos_pandas[\"Categoria\"].value_counts())\n",
    "print()\n",
    "produtos_polars = pl.read_csv(r'C:\\Users\\HP\\Desktop\\Formação\\Eisnt\\UFCD 10808 - Limpeza e transformação de dados em Python\\produtos.csv', separator=';', encoding=\"utf-8\")\n",
    "print(produtos_polars.group_by(\"Categoria\").len())"
   ]
  },
  {
   "cell_type": "markdown",
   "id": "1aa330a8",
   "metadata": {},
   "source": [
    "### Secção 4 – Junção de Dados"
   ]
  },
  {
   "cell_type": "code",
   "execution_count": 114,
   "id": "f9495696",
   "metadata": {},
   "outputs": [
    {
     "name": "stdout",
     "output_type": "stream",
     "text": [
      "  Produto_id    Produto\n",
      "0        100  Produto 1\n",
      "1        101  Produto 2\n",
      "2        102  Produto 3\n"
     ]
    }
   ],
   "source": [
    "# 19. Cria um DataFrame com produto_id e Produto\n",
    "\n",
    "df_produto = pd.DataFrame({ 'Produto_id': ['100', '101', '102'], \n",
    "                               'Produto': ['Produto 1', 'Produto 2', 'Produto 3'] }) \n",
    "print(df_produto)\n"
   ]
  },
  {
   "cell_type": "code",
   "execution_count": 118,
   "id": "253c1461",
   "metadata": {},
   "outputs": [
    {
     "name": "stdout",
     "output_type": "stream",
     "text": [
      "  Produto_id  Preco\n",
      "0        100     10\n",
      "1        102     15\n",
      "2        101     20\n",
      "3        104     50\n"
     ]
    }
   ],
   "source": [
    "# 20. Cria um DataFrame com produto_id e Preço.\n",
    "df_preco = pd.DataFrame({ 'Produto_id': ['100', '102', '101', '104'], \n",
    "                          'Preco': [10, 15, 20,50] }) \n",
    "print(df_preco)"
   ]
  },
  {
   "cell_type": "code",
   "execution_count": null,
   "id": "73312776",
   "metadata": {},
   "outputs": [],
   "source": [
    "# 21. Faz um merge entre os dois DataFrames com base em produto_id.\n",
    "\n",
    "df_merged = pd.merge(df_produto, df_preco, on='Produto_id', how='inner')\n",
    "# Exibir o DataFrame resultante\n",
    "print(df_merged)"
   ]
  },
  {
   "cell_type": "code",
   "execution_count": null,
   "id": "28a34bc3",
   "metadata": {},
   "outputs": [],
   "source": [
    "# 22. Repete a junção com os métodos inner, left e outer.\n",
    "\n",
    "df_inner = pd.merge(df_produto, df_preco, on='Produto_id', how='inner')\n",
    "df_left = pd.merge(df_produto, df_preco, on='Produto_id', how='left')\n",
    "df_right = pd.merge(df_produto, df_preco, on='Produto_id', how='right')\n",
    "df_outer = pd.merge(df_produto, df_preco, on='Produto_id', how='outer')\n",
    "# Exibir os DataFrames resultantes\n",
    "print(\"Inner Join:\")\n",
    "print(df_inner)\n",
    "print(\"\\nLeft Join:\")\n",
    "print(df_left)\n",
    "print(\"\\nRight Join:\")\n",
    "print(df_right)\n",
    "print(\"\\nOuter Join:\")\n",
    "print(df_outer)"
   ]
  },
  {
   "cell_type": "code",
   "execution_count": null,
   "id": "c396ed99",
   "metadata": {},
   "outputs": [],
   "source": [
    "# 23. Realiza a mesma junção com Polars.\n",
    "\n",
    "df_produto_polars = pl.DataFrame({ 'Produto_id': ['100', '101', '102'],\n",
    "                               'Produto': ['Produto 1', 'Produto 2', 'Produto 3'] })    \n",
    "df_preco_polars = pl.DataFrame({ 'Produto_id': ['100', '102', '101', '104'],\n",
    "                            'Preco': [10, 15, 20,50] })\n",
    "\n",
    "df_merged_polars = df_produto_polars.join(df_preco_polars, on='Produto_id', how='inner')\n",
    "# Exibir o DataFrame resultante \n",
    "print(df_merged_polars)\n"
   ]
  },
  {
   "cell_type": "markdown",
   "id": "7e185faa",
   "metadata": {},
   "source": [
    "### Secção 5 – Concatenação de Dados"
   ]
  },
  {
   "cell_type": "code",
   "execution_count": null,
   "id": "1c273be7",
   "metadata": {},
   "outputs": [],
   "source": [
    "# 24. Cria dois DataFrames com produtos diferentes e concatena-os verticalmente\n",
    "df_produto1 = pd.DataFrame({ 'Produto_id': ['100', '101', '102'], \n",
    "                               'Produto': ['Produto 1', 'Produto 2', 'Produto 3'] })\n",
    "df_produto2 = pd.DataFrame({ 'Produto_id': ['103', '104', '105'],   \n",
    "                                 'Produto': ['Produto 4', 'Produto 5', 'Produto 6'] })\n",
    "\n",
    "df_concatenado_v = pd.concat([df_produto1, df_produto2],axis=0, ignore_index=True)\n",
    "# Exibir o DataFrame resultante \n",
    "print(df_concatenado_v)\n"
   ]
  },
  {
   "cell_type": "code",
   "execution_count": null,
   "id": "d6542cf2",
   "metadata": {},
   "outputs": [],
   "source": [
    "# 25. Cria dois DataFrames com produtos diferentes e concatena-os horizontalmente\n",
    "\n",
    "\n",
    "df_concatenado_h = pd.concat([df_produto1, df_produto2],axis=1, ignore_index=True)\n",
    "# Exibir o DataFrame resultante \n",
    "print(df_concatenado_h)"
   ]
  },
  {
   "cell_type": "code",
   "execution_count": null,
   "id": "d23f0677",
   "metadata": {},
   "outputs": [],
   "source": [
    "# 26. Realiza a concatenação equivalente com Polars.\n",
    "df_produto1 = pl.DataFrame({ 'Produto_id': ['100', '101', '102'], \n",
    "                             'Produto': ['Produto 1', 'Produto 2', 'Produto 3'] })\n",
    "df_produto2 = pl.DataFrame({ 'Produto_id': ['103', '104', '105'],   \n",
    "                             'Produto': ['Produto 4', 'Produto 5', 'Produto 6'] })\n",
    "\n",
    "df_concatenado_polars = pl.concat([df_produto1, df_produto2],how='vertical')\n",
    "# Exibir o DataFrame resultante \n",
    "print(df_concatenado_polars)"
   ]
  },
  {
   "cell_type": "markdown",
   "id": "146937a3",
   "metadata": {},
   "source": [
    "### Secção 6 – Leitura de Ficheiros Excel"
   ]
  },
  {
   "cell_type": "code",
   "execution_count": 131,
   "id": "10a7aca8",
   "metadata": {},
   "outputs": [
    {
     "name": "stdout",
     "output_type": "stream",
     "text": [
      "   Produto  Quantidade  Preço Unitário\n",
      "0   Caneta          20             0.5\n",
      "1    Lápis          35             0.3\n",
      "2  Caderno          15             1.2\n"
     ]
    }
   ],
   "source": [
    "# 27. Lê apenas a folha Janeiro do ficheiro vendas.xlsx.\n",
    "\n",
    "data_vendas = pd.read_excel(r'C:\\Users\\HP\\Desktop\\Formação\\Eisnt\\UFCD 10808 - Limpeza e transformação de dados em Python\\vendas.xlsx', sheet_name='Janeiro')\n",
    "print(data_vendas.head())   \n"
   ]
  },
  {
   "cell_type": "code",
   "execution_count": null,
   "id": "5dd9ee5d",
   "metadata": {},
   "outputs": [],
   "source": [
    "# 28. Lê apenas as colunas Produto e Quantidade da folha Fevereiro.\n",
    "\n",
    "data_vendas = pd.read_excel(r'C:\\Users\\HP\\Desktop\\Formação\\Eisnt\\UFCD 10808 - Limpeza e transformação de dados em Python\\vendas.xlsx', sheet_name='Fevereiro', usecols=[\"Produto\", \"Quantidade\"])\n",
    "print(data_vendas.head())   \n"
   ]
  },
  {
   "cell_type": "code",
   "execution_count": null,
   "id": "5d69ec7a",
   "metadata": {},
   "outputs": [],
   "source": [
    "# 29. Lê apenas as primeiras 2 linhas da folha Março.\n",
    "\n",
    "data_vendas = pd.read_excel(r'C:\\Users\\HP\\Desktop\\Formação\\Eisnt\\UFCD 10808 - Limpeza e transformação de dados em Python\\vendas.xlsx', sheet_name='Março', nrows=2)\n",
    "print(data_vendas.head())  "
   ]
  },
  {
   "cell_type": "code",
   "execution_count": 170,
   "id": "eae2d003",
   "metadata": {},
   "outputs": [
    {
     "name": "stdout",
     "output_type": "stream",
     "text": [
      "3\n",
      "Janeiro\n",
      "   Produto  Quantidade  Preço Unitário      Mês\n",
      "0   Caneta          20             0.5  Janeiro\n",
      "1    Lápis          35             0.3  Janeiro\n",
      "2  Caderno          15             1.2  Janeiro\n",
      "Fevereiro\n",
      "    Produto  Quantidade  Preço Unitário        Mês\n",
      "0    Caneta          18            0.50  Fevereiro\n",
      "1  Marcador          12            0.80  Fevereiro\n",
      "2  Borracha          25            0.25  Fevereiro\n",
      "Março\n",
      "    Produto  Quantidade  Preço Unitário    Mês\n",
      "0   Caderno          10             1.2  Março\n",
      "1     Lápis          40             0.3  Março\n",
      "2  Marcador          20             0.8  Março\n",
      "\n",
      " DataFrame concatenado:\n",
      "    Produto  Quantidade  Preço Unitário        Mês\n",
      "0    Caneta          20            0.50    Janeiro\n",
      "1     Lápis          35            0.30    Janeiro\n",
      "2   Caderno          15            1.20    Janeiro\n",
      "3    Caneta          18            0.50  Fevereiro\n",
      "4  Marcador          12            0.80  Fevereiro\n",
      "5  Borracha          25            0.25  Fevereiro\n",
      "6   Caderno          10            1.20      Março\n",
      "7     Lápis          40            0.30      Março\n",
      "8  Marcador          20            0.80      Março\n"
     ]
    }
   ],
   "source": [
    "# 30. Lê todas as folhas do ficheiro vendas.xlsx e concatena os dados num único DataFrame.\n",
    "\n",
    "# Lê todas as folhas do ficheiro vendas.xlsx\n",
    "excel_file = pd.ExcelFile(r'C:\\Users\\HP\\Desktop\\Formação\\Eisnt\\UFCD 10808 - Limpeza e transformação de dados em Python\\vendas.xlsx')\n",
    "# Imprime o número de folhas\n",
    "print(len(excel_file.sheet_names))\n",
    "\n",
    "df_concatenado_vendas1 = pd.DataFrame()\n",
    "# Ciclo para imprimir todas as folhas\n",
    "for sheet_name in excel_file.sheet_names:\n",
    "    print(sheet_name)\n",
    "    dataframe = 'Data_'+ sheet_name\n",
    "    dataframe = pd.read_excel(excel_file, sheet_name=sheet_name) \n",
    "    dataframe['Mês'] = sheet_name\n",
    "    print(dataframe.head())\n",
    "    \n",
    "    df_concatenado_vendas1 = pd.concat([df_concatenado_vendas1,dataframe], axis=0, ignore_index=True)\n",
    " \n",
    "print(\"\\n DataFrame concatenado:\")   \n",
    "print (df_concatenado_vendas1.head(15))\n"
   ]
  },
  {
   "cell_type": "code",
   "execution_count": 163,
   "id": "86672f61",
   "metadata": {},
   "outputs": [
    {
     "data": {
      "text/html": [
       "<div>\n",
       "<style scoped>\n",
       "    .dataframe tbody tr th:only-of-type {\n",
       "        vertical-align: middle;\n",
       "    }\n",
       "\n",
       "    .dataframe tbody tr th {\n",
       "        vertical-align: top;\n",
       "    }\n",
       "\n",
       "    .dataframe thead th {\n",
       "        text-align: right;\n",
       "    }\n",
       "</style>\n",
       "<table border=\"1\" class=\"dataframe\">\n",
       "  <thead>\n",
       "    <tr style=\"text-align: right;\">\n",
       "      <th></th>\n",
       "      <th>Produto</th>\n",
       "      <th>Quantidade</th>\n",
       "      <th>Preço Unitário</th>\n",
       "      <th>Mês</th>\n",
       "    </tr>\n",
       "  </thead>\n",
       "  <tbody>\n",
       "    <tr>\n",
       "      <th>0</th>\n",
       "      <td>Caneta</td>\n",
       "      <td>20</td>\n",
       "      <td>0.50</td>\n",
       "      <td>Janeiro</td>\n",
       "    </tr>\n",
       "    <tr>\n",
       "      <th>1</th>\n",
       "      <td>Lápis</td>\n",
       "      <td>35</td>\n",
       "      <td>0.30</td>\n",
       "      <td>Janeiro</td>\n",
       "    </tr>\n",
       "    <tr>\n",
       "      <th>2</th>\n",
       "      <td>Caderno</td>\n",
       "      <td>15</td>\n",
       "      <td>1.20</td>\n",
       "      <td>Janeiro</td>\n",
       "    </tr>\n",
       "    <tr>\n",
       "      <th>3</th>\n",
       "      <td>Caneta</td>\n",
       "      <td>18</td>\n",
       "      <td>0.50</td>\n",
       "      <td>Fevereiro</td>\n",
       "    </tr>\n",
       "    <tr>\n",
       "      <th>4</th>\n",
       "      <td>Marcador</td>\n",
       "      <td>12</td>\n",
       "      <td>0.80</td>\n",
       "      <td>Fevereiro</td>\n",
       "    </tr>\n",
       "    <tr>\n",
       "      <th>5</th>\n",
       "      <td>Borracha</td>\n",
       "      <td>25</td>\n",
       "      <td>0.25</td>\n",
       "      <td>Fevereiro</td>\n",
       "    </tr>\n",
       "    <tr>\n",
       "      <th>6</th>\n",
       "      <td>Caderno</td>\n",
       "      <td>10</td>\n",
       "      <td>1.20</td>\n",
       "      <td>Março</td>\n",
       "    </tr>\n",
       "    <tr>\n",
       "      <th>7</th>\n",
       "      <td>Lápis</td>\n",
       "      <td>40</td>\n",
       "      <td>0.30</td>\n",
       "      <td>Março</td>\n",
       "    </tr>\n",
       "    <tr>\n",
       "      <th>8</th>\n",
       "      <td>Marcador</td>\n",
       "      <td>20</td>\n",
       "      <td>0.80</td>\n",
       "      <td>Março</td>\n",
       "    </tr>\n",
       "  </tbody>\n",
       "</table>\n",
       "</div>"
      ],
      "text/plain": [
       "    Produto  Quantidade  Preço Unitário        Mês\n",
       "0    Caneta          20            0.50    Janeiro\n",
       "1     Lápis          35            0.30    Janeiro\n",
       "2   Caderno          15            1.20    Janeiro\n",
       "3    Caneta          18            0.50  Fevereiro\n",
       "4  Marcador          12            0.80  Fevereiro\n",
       "5  Borracha          25            0.25  Fevereiro\n",
       "6   Caderno          10            1.20      Março\n",
       "7     Lápis          40            0.30      Março\n",
       "8  Marcador          20            0.80      Março"
      ]
     },
     "execution_count": 163,
     "metadata": {},
     "output_type": "execute_result"
    }
   ],
   "source": [
    "#31. Adiciona uma coluna Mês com o nome da folha de origem.\n",
    "\n",
    "data_vendas_jan = pd.read_excel(r'C:\\Users\\HP\\Desktop\\Formação\\Eisnt\\UFCD 10808 - Limpeza e transformação de dados em Python\\vendas.xlsx', sheet_name='Janeiro')\n",
    "data_vendas_fev = pd.read_excel(r'C:\\Users\\HP\\Desktop\\Formação\\Eisnt\\UFCD 10808 - Limpeza e transformação de dados em Python\\vendas.xlsx', sheet_name='Fevereiro')\n",
    "data_vendas_mar = pd.read_excel(r'C:\\Users\\HP\\Desktop\\Formação\\Eisnt\\UFCD 10808 - Limpeza e transformação de dados em Python\\vendas.xlsx', sheet_name='Março')\n",
    "df_concatenado_vendas = pd.concat([data_vendas_jan, data_vendas_fev, data_vendas_mar],axis=0, ignore_index=True) \n",
    "    \n",
    "df_concatenado_vendas.head(15)\n",
    "\n",
    "data_vendas_jan['Mês'] = 'Janeiro'\n",
    "data_vendas_fev['Mês'] = 'Fevereiro'\n",
    "data_vendas_mar['Mês'] = 'Março'\n",
    "\n",
    "df_concatenado_vendas = pd.concat([data_vendas_jan, data_vendas_fev, data_vendas_mar],axis=0, ignore_index=True) \n",
    "    \n",
    "df_concatenado_vendas.head(15)"
   ]
  },
  {
   "cell_type": "code",
   "execution_count": null,
   "id": "6a353bca",
   "metadata": {},
   "outputs": [],
   "source": [
    "#32. Converte a folha Janeiro para Polars.\n",
    "\n",
    "# Leitura com pandas\n",
    "data_vendas_jan = pd.read_excel(r'C:\\Users\\HP\\Desktop\\Formação\\Eisnt\\UFCD 10808 - Limpeza e transformação de dados em Python\\vendas.xlsx', sheet_name='Janeiro')\n",
    "# Conversão para polars \n",
    "df_polars_vendas_jan = pl.from_pandas(data_vendas_jan) \n",
    "print(df_polars_vendas_jan.head())\n"
   ]
  },
  {
   "cell_type": "code",
   "execution_count": 151,
   "id": "a0fdefa4",
   "metadata": {},
   "outputs": [
    {
     "name": "stdout",
     "output_type": "stream",
     "text": [
      "Schema({'Produto': String, 'Quantidade': Int64, 'Preço Unitário': Float64})\n",
      "[String, Int64, Float64]\n"
     ]
    }
   ],
   "source": [
    "# 33. Verifica os tipos de dados das colunas da folha Janeiro.\n",
    "\n",
    "print(df_polars_vendas_jan.schema) # Mostra nomes e tipos \n",
    "print(df_polars_vendas_jan.dtypes) # Lista apenas os tipos"
   ]
  }
 ],
 "metadata": {
  "kernelspec": {
   "display_name": "Python 3",
   "language": "python",
   "name": "python3"
  },
  "language_info": {
   "codemirror_mode": {
    "name": "ipython",
    "version": 3
   },
   "file_extension": ".py",
   "mimetype": "text/x-python",
   "name": "python",
   "nbconvert_exporter": "python",
   "pygments_lexer": "ipython3",
   "version": "3.13.2"
  }
 },
 "nbformat": 4,
 "nbformat_minor": 5
}
