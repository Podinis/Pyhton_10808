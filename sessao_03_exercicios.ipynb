{
 "cells": [
  {
   "cell_type": "markdown",
   "id": "04590751",
   "metadata": {},
   "source": [
    "### Carregamento de bibliotecas"
   ]
  },
  {
   "cell_type": "code",
   "execution_count": 1,
   "id": "61a86427",
   "metadata": {},
   "outputs": [],
   "source": [
    "import pandas as pd \n",
    "import numpy as np\n",
    "import polars as pl"
   ]
  },
  {
   "cell_type": "markdown",
   "id": "719b004b",
   "metadata": {},
   "source": [
    "## Pandas"
   ]
  },
  {
   "cell_type": "code",
   "execution_count": 2,
   "id": "1941689b",
   "metadata": {},
   "outputs": [],
   "source": [
    "# 1. Leitura do dataset Titanic \n",
    "df = pd.read_csv(r'C:\\Users\\HP\\Desktop\\Formação\\Eisnt\\UFCD 10808 - Limpeza e transformação de dados em Python\\titanic.csv', sep=',', encoding='latin1')"
   ]
  },
  {
   "cell_type": "code",
   "execution_count": 3,
   "id": "0531e745",
   "metadata": {},
   "outputs": [
    {
     "name": "stdout",
     "output_type": "stream",
     "text": [
      "Primeiras linhas do dataset:\n",
      "    Age Cabin Embarked     Fare                                          Name  \\\n",
      "0  34.5   NaN        Q   7.8292                              Kelly, Mr. James   \n",
      "1  47.0   NaN        S   7.0000              Wilkes, Mrs. James (Ellen Needs)   \n",
      "2  62.0   NaN        Q   9.6875                     Myles, Mr. Thomas Francis   \n",
      "3  27.0   NaN        S   8.6625                              Wirz, Mr. Albert   \n",
      "4  22.0   NaN        S  12.2875  Hirvonen, Mrs. Alexander (Helga E Lindqvist)   \n",
      "\n",
      "   Parch  PassengerId  Pclass     Sex  SibSp  Survived   Ticket Title  \\\n",
      "0      0          892       3    male      0       NaN   330911    Mr   \n",
      "1      0          893       3  female      1       NaN   363272   Mrs   \n",
      "2      0          894       2    male      0       NaN   240276    Mr   \n",
      "3      0          895       3    male      0       NaN   315154    Mr   \n",
      "4      1          896       3  female      1       NaN  3101298   Mrs   \n",
      "\n",
      "   Family_Size  \n",
      "0            0  \n",
      "1            1  \n",
      "2            0  \n",
      "3            0  \n",
      "4            2  \n",
      "\n",
      "Dimensão do dataset: (418, 14)\n",
      "\n",
      "Colunas: Index(['Age', 'Cabin', 'Embarked', 'Fare', 'Name', 'Parch', 'PassengerId',\n",
      "       'Pclass', 'Sex', 'SibSp', 'Survived', 'Ticket', 'Title', 'Family_Size'],\n",
      "      dtype='object')\n"
     ]
    }
   ],
   "source": [
    "# 2. Visualização inicial \n",
    "print(\"Primeiras linhas do dataset:\") \n",
    "print(df.head()) \n",
    "print(\"\\nDimensão do dataset:\", df.shape) \n",
    "print(\"\\nColunas:\", df.columns)"
   ]
  },
  {
   "cell_type": "code",
   "execution_count": null,
   "id": "d16bb88f",
   "metadata": {},
   "outputs": [],
   "source": [
    "# 3. Verificação de tipos e valores nulos \n",
    "print(\"\\nInformação geral do dataset:\") \n",
    "print(df.info())\n",
    "print(\"\\nContagem de valores nulos por coluna:\") \n",
    "print(df.isnull().sum())"
   ]
  },
  {
   "cell_type": "code",
   "execution_count": 5,
   "id": "a91b05c1",
   "metadata": {},
   "outputs": [],
   "source": [
    "# 4. Limpeza de dados \n",
    "# Preencher valores nulos em 'Age' com a média \n",
    "df['Age'] = df['Age'].fillna(df['Age'].mean()) \n",
    "\n",
    "# Preencher valores nulos em 'Embarked' com a moda \n",
    "df['Embarked'] = df['Embarked'].fillna(df['Embarked'].mode()[0])\n",
    "\n",
    "# Conversão segura do tipo de dado 'Fare' para float \n",
    "df['Fare'] = pd.to_numeric(df['Fare'], errors='coerce')\n"
   ]
  },
  {
   "cell_type": "code",
   "execution_count": 6,
   "id": "33e3f8d8",
   "metadata": {},
   "outputs": [
    {
     "name": "stdout",
     "output_type": "stream",
     "text": [
      "\n",
      "Estatísticas sobre a idade:\n",
      "Média das idades: 29.81\n",
      "Mediana das idades: 30.0\n",
      "\n",
      "Estatísticas sobre a tarifa (Fare):\n",
      "Desvio padrão: 55.79\n",
      "25º percentil: 7.8958\n",
      "75º percentil: 31.471875\n"
     ]
    }
   ],
   "source": [
    "# 5. Estatísticas básicas com NumPy \n",
    "ages = df['Age'].dropna() \n",
    "fares = df['Fare'].dropna() \n",
    "\n",
    "print(\"\\nEstatísticas sobre a idade:\") \n",
    "print(f\"Média das idades: {np.mean(ages):.2f}\")\n",
    "print(\"Mediana das idades:\", np.median(ages)) \n",
    "\n",
    "print(\"\\nEstatísticas sobre a tarifa (Fare):\") \n",
    "print(f\"Desvio padrão: {np.std(fares):.2f}\") \n",
    "print(\"25º percentil:\", np.percentile(fares, 25)) \n",
    "print(\"75º percentil:\", np.percentile(fares, 75))"
   ]
  },
  {
   "cell_type": "code",
   "execution_count": 7,
   "id": "88a434ae",
   "metadata": {},
   "outputs": [
    {
     "name": "stdout",
     "output_type": "stream",
     "text": [
      "\n",
      "Dataset após junção com cabines:\n",
      "    Age Cabin Embarked     Fare                         Name  Parch  \\\n",
      "0  30.0   E46        S  51.8625  Hilliard, Mr. Herbert Henry      0   \n",
      "1  39.0   C85        C  71.2833    Cumings, Mr. John Bradley      0   \n",
      "\n",
      "   PassengerId  Pclass   Sex  SibSp  Survived    Ticket Title  Family_Size  \\\n",
      "0         1038       1  male      0       NaN     17463    Mr            0   \n",
      "1         1126       1  male      1       NaN  PC 17599    Mr            1   \n",
      "\n",
      "   Tipo  \n",
      "0  Luxo  \n",
      "1  Luxo  \n"
     ]
    }
   ],
   "source": [
    "# 6. Combinação com outro DataFrame (exemplo) \n",
    "cabines = pd.DataFrame({ \n",
    "                        'Cabin': ['C85', 'C123', 'E46'],\n",
    "                        'Tipo': ['Luxo', 'Standard', 'Luxo']\n",
    "                        })\n",
    "\n",
    "# Juntar com base na coluna 'Cabin' \n",
    "df_merged = pd.merge(df, cabines, on='Cabin', how='inner') \n",
    "print(\"\\nDataset após junção com cabines:\")\n",
    "print(df_merged.head())"
   ]
  },
  {
   "cell_type": "markdown",
   "id": "48b25f28",
   "metadata": {},
   "source": [
    "## Polars"
   ]
  },
  {
   "cell_type": "code",
   "execution_count": 8,
   "id": "507589ec",
   "metadata": {},
   "outputs": [],
   "source": [
    "# 1. Leitura do dataset Titanic \n",
    "df1 = pl.read_csv(r'C:\\Users\\HP\\Desktop\\Formação\\Eisnt\\UFCD 10808 - Limpeza e transformação de dados em Python\\titanic.csv', separator=',', encoding='latin1')"
   ]
  },
  {
   "cell_type": "code",
   "execution_count": 9,
   "id": "258e3d30",
   "metadata": {},
   "outputs": [
    {
     "name": "stdout",
     "output_type": "stream",
     "text": [
      "Primeiras linhas do dataset:\n",
      "shape: (5, 14)\n",
      "┌──────┬───────┬──────────┬─────────┬───┬──────────┬─────────┬───────┬─────────────┐\n",
      "│ Age  ┆ Cabin ┆ Embarked ┆ Fare    ┆ … ┆ Survived ┆ Ticket  ┆ Title ┆ Family_Size │\n",
      "│ ---  ┆ ---   ┆ ---      ┆ ---     ┆   ┆ ---      ┆ ---     ┆ ---   ┆ ---         │\n",
      "│ f64  ┆ str   ┆ str      ┆ f64     ┆   ┆ str      ┆ str     ┆ str   ┆ i64         │\n",
      "╞══════╪═══════╪══════════╪═════════╪═══╪══════════╪═════════╪═══════╪═════════════╡\n",
      "│ 34.5 ┆ null  ┆ Q        ┆ 7.8292  ┆ … ┆ null     ┆ 330911  ┆ Mr    ┆ 0           │\n",
      "│ 47.0 ┆ null  ┆ S        ┆ 7.0     ┆ … ┆ null     ┆ 363272  ┆ Mrs   ┆ 1           │\n",
      "│ 62.0 ┆ null  ┆ Q        ┆ 9.6875  ┆ … ┆ null     ┆ 240276  ┆ Mr    ┆ 0           │\n",
      "│ 27.0 ┆ null  ┆ S        ┆ 8.6625  ┆ … ┆ null     ┆ 315154  ┆ Mr    ┆ 0           │\n",
      "│ 22.0 ┆ null  ┆ S        ┆ 12.2875 ┆ … ┆ null     ┆ 3101298 ┆ Mrs   ┆ 2           │\n",
      "└──────┴───────┴──────────┴─────────┴───┴──────────┴─────────┴───────┴─────────────┘\n",
      "\n",
      "Dimensão do dataset: (418, 14)\n",
      "Colunas: ['Age', 'Cabin', 'Embarked', 'Fare', 'Name', 'Parch', 'PassengerId', 'Pclass', 'Sex', 'SibSp', 'Survived', 'Ticket', 'Title', 'Family_Size']\n"
     ]
    }
   ],
   "source": [
    "# 2. Visualização inicial \n",
    "print(\"Primeiras linhas do dataset:\") \n",
    "print(df1.head())\n",
    "\n",
    "print(\"\\nDimensão do dataset:\", df1.shape) \n",
    "print(\"Colunas:\", df1.columns)"
   ]
  },
  {
   "cell_type": "code",
   "execution_count": 10,
   "id": "47beb4ea",
   "metadata": {},
   "outputs": [
    {
     "name": "stdout",
     "output_type": "stream",
     "text": [
      "\n",
      "Contagem de valores nulos por coluna:\n",
      "shape: (1, 14)\n",
      "┌─────┬───────┬──────────┬──────┬───┬──────────┬────────┬───────┬─────────────┐\n",
      "│ Age ┆ Cabin ┆ Embarked ┆ Fare ┆ … ┆ Survived ┆ Ticket ┆ Title ┆ Family_Size │\n",
      "│ --- ┆ ---   ┆ ---      ┆ ---  ┆   ┆ ---      ┆ ---    ┆ ---   ┆ ---         │\n",
      "│ u32 ┆ u32   ┆ u32      ┆ u32  ┆   ┆ u32      ┆ u32    ┆ u32   ┆ u32         │\n",
      "╞═════╪═══════╪══════════╪══════╪═══╪══════════╪════════╪═══════╪═════════════╡\n",
      "│ 0   ┆ 327   ┆ 0        ┆ 0    ┆ … ┆ 418      ┆ 0      ┆ 0     ┆ 0           │\n",
      "└─────┴───────┴──────────┴──────┴───┴──────────┴────────┴───────┴─────────────┘\n"
     ]
    }
   ],
   "source": [
    "#3. Verificação de valores nulos \n",
    "print(\"\\nContagem de valores nulos por coluna:\") \n",
    "print(df1.null_count())"
   ]
  },
  {
   "cell_type": "code",
   "execution_count": 11,
   "id": "88445b39",
   "metadata": {},
   "outputs": [],
   "source": [
    "# 4. Limpeza de dados \n",
    "# Preencher valores nulos em 'Age' com a média \n",
    "mean_age = df1.select(pl.col(\"Age\").mean()).item() \n",
    "\n",
    "df1 = df1.with_columns([ pl.when(pl.col(\"Age\").is_null())\n",
    "                      .then(mean_age)\n",
    "                      .otherwise(pl.col(\"Age\"))\n",
    "                      .alias(\"Age\") ])\n",
    "\n",
    "# Preencher valores nulos em 'Embarked' com a moda (valor mais frequente) \n",
    "mode_embarked = ( \n",
    "                 df1.select(\"Embarked\") \n",
    "                 .drop_nulls() \n",
    "                 .to_series() \n",
    "                 .value_counts() \n",
    "                 .sort(\"count\", descending=True) \n",
    "                 .get_column(\"Embarked\")[0] ) \n",
    "\n",
    "df1 = df1.with_columns([ \n",
    "                      pl.when(pl.col(\"Embarked\").is_null()) \n",
    "                      .then(pl.lit(mode_embarked)) \n",
    "                      .otherwise(pl.col(\"Embarked\")) \n",
    "                      .alias(\"Embarked\") ]) \n",
    "\n",
    "# Conversão de 'Fare' para float (em Polars já é geralmente automático) \n",
    "df1 = df1.with_columns([ pl.col(\"Fare\").cast(pl.Float64) ])"
   ]
  },
  {
   "cell_type": "code",
   "execution_count": 12,
   "id": "08d3d749",
   "metadata": {},
   "outputs": [
    {
     "name": "stdout",
     "output_type": "stream",
     "text": [
      "\n",
      "Estatísticas sobre a idade:\n",
      "Média das idades: 29.81\n",
      "Mediana das idades: 30.0\n",
      "\n",
      "Estatísticas sobre a tarifa (Fare):\n",
      "Desvio padrão: 55.79\n",
      "25º percentil: 7.8958\n",
      "75º percentil: 31.471875\n"
     ]
    }
   ],
   "source": [
    "# 5. Estatísticas com NumPy (usando conversão para arrays) \n",
    "ages = df1.select(\"Age\").drop_nulls().to_series().to_numpy() \n",
    "fares = df1.select(\"Fare\").drop_nulls().to_series().to_numpy() \n",
    "\n",
    "print(\"\\nEstatísticas sobre a idade:\") \n",
    "print(f\"Média das idades: {np.mean(ages):.2f}\") \n",
    "print(\"Mediana das idades:\", np.median(ages)) \n",
    "\n",
    "print(\"\\nEstatísticas sobre a tarifa (Fare):\") \n",
    "print(f\"Desvio padrão: {np.std(fares):.2f}\") \n",
    "print(\"25º percentil:\", np.percentile(fares, 25)) \n",
    "print(\"75º percentil:\", np.percentile(fares, 75))"
   ]
  },
  {
   "cell_type": "code",
   "execution_count": 13,
   "id": "d52cf7ca",
   "metadata": {},
   "outputs": [
    {
     "name": "stdout",
     "output_type": "stream",
     "text": [
      "\n",
      "Dataset após junção com cabines:\n",
      "shape: (2, 15)\n",
      "┌──────┬───────┬──────────┬─────────┬───┬──────────┬───────┬─────────────┬──────┐\n",
      "│ Age  ┆ Cabin ┆ Embarked ┆ Fare    ┆ … ┆ Ticket   ┆ Title ┆ Family_Size ┆ Tipo │\n",
      "│ ---  ┆ ---   ┆ ---      ┆ ---     ┆   ┆ ---      ┆ ---   ┆ ---         ┆ ---  │\n",
      "│ f64  ┆ str   ┆ str      ┆ f64     ┆   ┆ str      ┆ str   ┆ i64         ┆ str  │\n",
      "╞══════╪═══════╪══════════╪═════════╪═══╪══════════╪═══════╪═════════════╪══════╡\n",
      "│ 30.0 ┆ E46   ┆ S        ┆ 51.8625 ┆ … ┆ 17463    ┆ Mr    ┆ 0           ┆ Luxo │\n",
      "│ 39.0 ┆ C85   ┆ C        ┆ 71.2833 ┆ … ┆ PC 17599 ┆ Mr    ┆ 1           ┆ Luxo │\n",
      "└──────┴───────┴──────────┴─────────┴───┴──────────┴───────┴─────────────┴──────┘\n"
     ]
    }
   ],
   "source": [
    "#6. Combinação com outro DataFrame (exemplo) \n",
    "cabines = pl.DataFrame({\n",
    "    'Cabin': ['C85', 'C123', 'E46'],\n",
    "    'Tipo': ['Luxo', 'Standard', 'Luxo'] }) \n",
    "\n",
    "df_join = df1.join(cabines, on='Cabin', how='inner') \n",
    "print(\"\\nDataset após junção com cabines:\") \n",
    "print(df_join.head())"
   ]
  },
  {
   "cell_type": "markdown",
   "id": "5be5df16",
   "metadata": {},
   "source": [
    "# EXERCICIOS COM DATASET House Prices\n"
   ]
  },
  {
   "cell_type": "code",
   "execution_count": 14,
   "id": "83f0677f",
   "metadata": {},
   "outputs": [
    {
     "name": "stdout",
     "output_type": "stream",
     "text": [
      "Primeiras linhas do dataset:\n",
      "   Id  MSSubClass MSZoning  LotFrontage  LotArea Street Alley LotShape  \\\n",
      "0   1          60       RL         65.0     8450   Pave   NaN      Reg   \n",
      "1   2          20       RL         80.0     9600   Pave   NaN      Reg   \n",
      "2   3          60       RL         68.0    11250   Pave   NaN      IR1   \n",
      "3   4          70       RL         60.0     9550   Pave   NaN      IR1   \n",
      "4   5          60       RL         84.0    14260   Pave   NaN      IR1   \n",
      "5   6          50       RL         85.0    14115   Pave   NaN      IR1   \n",
      "6   7          20       RL         75.0    10084   Pave   NaN      Reg   \n",
      "7   8          60       RL          NaN    10382   Pave   NaN      IR1   \n",
      "8   9          50       RM         51.0     6120   Pave   NaN      Reg   \n",
      "9  10         190       RL         50.0     7420   Pave   NaN      Reg   \n",
      "\n",
      "  LandContour Utilities  ... PoolArea PoolQC  Fence MiscFeature MiscVal  \\\n",
      "0         Lvl    AllPub  ...        0    NaN    NaN         NaN       0   \n",
      "1         Lvl    AllPub  ...        0    NaN    NaN         NaN       0   \n",
      "2         Lvl    AllPub  ...        0    NaN    NaN         NaN       0   \n",
      "3         Lvl    AllPub  ...        0    NaN    NaN         NaN       0   \n",
      "4         Lvl    AllPub  ...        0    NaN    NaN         NaN       0   \n",
      "5         Lvl    AllPub  ...        0    NaN  MnPrv        Shed     700   \n",
      "6         Lvl    AllPub  ...        0    NaN    NaN         NaN       0   \n",
      "7         Lvl    AllPub  ...        0    NaN    NaN        Shed     350   \n",
      "8         Lvl    AllPub  ...        0    NaN    NaN         NaN       0   \n",
      "9         Lvl    AllPub  ...        0    NaN    NaN         NaN       0   \n",
      "\n",
      "  MoSold YrSold  SaleType  SaleCondition  SalePrice  \n",
      "0      2   2008        WD         Normal     208500  \n",
      "1      5   2007        WD         Normal     181500  \n",
      "2      9   2008        WD         Normal     223500  \n",
      "3      2   2006        WD        Abnorml     140000  \n",
      "4     12   2008        WD         Normal     250000  \n",
      "5     10   2009        WD         Normal     143000  \n",
      "6      8   2007        WD         Normal     307000  \n",
      "7     11   2009        WD         Normal     200000  \n",
      "8      4   2008        WD        Abnorml     129900  \n",
      "9      1   2008        WD         Normal     118000  \n",
      "\n",
      "[10 rows x 81 columns]\n",
      "\n",
      "Ultimos 10 registos:         Id  MSSubClass MSZoning  LotFrontage  LotArea Street Alley LotShape  \\\n",
      "1450  1451          90       RL         60.0     9000   Pave   NaN      Reg   \n",
      "1451  1452          20       RL         78.0     9262   Pave   NaN      Reg   \n",
      "1452  1453         180       RM         35.0     3675   Pave   NaN      Reg   \n",
      "1453  1454          20       RL         90.0    17217   Pave   NaN      Reg   \n",
      "1454  1455          20       FV         62.0     7500   Pave  Pave      Reg   \n",
      "1455  1456          60       RL         62.0     7917   Pave   NaN      Reg   \n",
      "1456  1457          20       RL         85.0    13175   Pave   NaN      Reg   \n",
      "1457  1458          70       RL         66.0     9042   Pave   NaN      Reg   \n",
      "1458  1459          20       RL         68.0     9717   Pave   NaN      Reg   \n",
      "1459  1460          20       RL         75.0     9937   Pave   NaN      Reg   \n",
      "\n",
      "     LandContour Utilities  ... PoolArea PoolQC  Fence MiscFeature MiscVal  \\\n",
      "1450         Lvl    AllPub  ...        0    NaN    NaN         NaN       0   \n",
      "1451         Lvl    AllPub  ...        0    NaN    NaN         NaN       0   \n",
      "1452         Lvl    AllPub  ...        0    NaN    NaN         NaN       0   \n",
      "1453         Lvl    AllPub  ...        0    NaN    NaN         NaN       0   \n",
      "1454         Lvl    AllPub  ...        0    NaN    NaN         NaN       0   \n",
      "1455         Lvl    AllPub  ...        0    NaN    NaN         NaN       0   \n",
      "1456         Lvl    AllPub  ...        0    NaN  MnPrv         NaN       0   \n",
      "1457         Lvl    AllPub  ...        0    NaN  GdPrv        Shed    2500   \n",
      "1458         Lvl    AllPub  ...        0    NaN    NaN         NaN       0   \n",
      "1459         Lvl    AllPub  ...        0    NaN    NaN         NaN       0   \n",
      "\n",
      "     MoSold YrSold  SaleType  SaleCondition  SalePrice  \n",
      "1450      9   2009        WD         Normal     136000  \n",
      "1451      5   2009       New        Partial     287090  \n",
      "1452      5   2006        WD         Normal     145000  \n",
      "1453      7   2006        WD        Abnorml      84500  \n",
      "1454     10   2009        WD         Normal     185000  \n",
      "1455      8   2007        WD         Normal     175000  \n",
      "1456      2   2010        WD         Normal     210000  \n",
      "1457      5   2010        WD         Normal     266500  \n",
      "1458      4   2010        WD         Normal     142125  \n",
      "1459      6   2008        WD         Normal     147500  \n",
      "\n",
      "[10 rows x 81 columns]\n"
     ]
    }
   ],
   "source": [
    "# 1. Leitura do dataset Titanic \n",
    "df = pd.read_csv(r'C:\\Users\\HP\\Desktop\\Formação\\Eisnt\\UFCD 10808 - Limpeza e transformação de dados em Python\\train.csv', sep=',', encoding='latin1')\n",
    "print(\"Primeiras linhas do dataset:\")\n",
    "print(df.head(10))\n",
    "print(\"\\nUltimos 10 registos:\", df.tail(10))"
   ]
  },
  {
   "cell_type": "code",
   "execution_count": 15,
   "id": "68602f64",
   "metadata": {},
   "outputs": [
    {
     "name": "stdout",
     "output_type": "stream",
     "text": [
      "\n",
      "Dimensão do dataset: (1460, 81)\n",
      "\n",
      "Colunas: Index(['Id', 'MSSubClass', 'MSZoning', 'LotFrontage', 'LotArea', 'Street',\n",
      "       'Alley', 'LotShape', 'LandContour', 'Utilities', 'LotConfig',\n",
      "       'LandSlope', 'Neighborhood', 'Condition1', 'Condition2', 'BldgType',\n",
      "       'HouseStyle', 'OverallQual', 'OverallCond', 'YearBuilt', 'YearRemodAdd',\n",
      "       'RoofStyle', 'RoofMatl', 'Exterior1st', 'Exterior2nd', 'MasVnrType',\n",
      "       'MasVnrArea', 'ExterQual', 'ExterCond', 'Foundation', 'BsmtQual',\n",
      "       'BsmtCond', 'BsmtExposure', 'BsmtFinType1', 'BsmtFinSF1',\n",
      "       'BsmtFinType2', 'BsmtFinSF2', 'BsmtUnfSF', 'TotalBsmtSF', 'Heating',\n",
      "       'HeatingQC', 'CentralAir', 'Electrical', '1stFlrSF', '2ndFlrSF',\n",
      "       'LowQualFinSF', 'GrLivArea', 'BsmtFullBath', 'BsmtHalfBath', 'FullBath',\n",
      "       'HalfBath', 'BedroomAbvGr', 'KitchenAbvGr', 'KitchenQual',\n",
      "       'TotRmsAbvGrd', 'Functional', 'Fireplaces', 'FireplaceQu', 'GarageType',\n",
      "       'GarageYrBlt', 'GarageFinish', 'GarageCars', 'GarageArea', 'GarageQual',\n",
      "       'GarageCond', 'PavedDrive', 'WoodDeckSF', 'OpenPorchSF',\n",
      "       'EnclosedPorch', '3SsnPorch', 'ScreenPorch', 'PoolArea', 'PoolQC',\n",
      "       'Fence', 'MiscFeature', 'MiscVal', 'MoSold', 'YrSold', 'SaleType',\n",
      "       'SaleCondition', 'SalePrice'],\n",
      "      dtype='object')\n"
     ]
    }
   ],
   "source": [
    "print(\"\\nDimensão do dataset:\", df.shape)\n",
    "print(\"\\nColunas:\", df.columns)"
   ]
  },
  {
   "cell_type": "code",
   "execution_count": 16,
   "id": "7322bd78",
   "metadata": {},
   "outputs": [
    {
     "name": "stdout",
     "output_type": "stream",
     "text": [
      "\n",
      "Informação geral do dataset:\n",
      "<class 'pandas.core.frame.DataFrame'>\n",
      "RangeIndex: 1460 entries, 0 to 1459\n",
      "Data columns (total 81 columns):\n",
      " #   Column         Non-Null Count  Dtype  \n",
      "---  ------         --------------  -----  \n",
      " 0   Id             1460 non-null   int64  \n",
      " 1   MSSubClass     1460 non-null   int64  \n",
      " 2   MSZoning       1460 non-null   object \n",
      " 3   LotFrontage    1201 non-null   float64\n",
      " 4   LotArea        1460 non-null   int64  \n",
      " 5   Street         1460 non-null   object \n",
      " 6   Alley          91 non-null     object \n",
      " 7   LotShape       1460 non-null   object \n",
      " 8   LandContour    1460 non-null   object \n",
      " 9   Utilities      1460 non-null   object \n",
      " 10  LotConfig      1460 non-null   object \n",
      " 11  LandSlope      1460 non-null   object \n",
      " 12  Neighborhood   1460 non-null   object \n",
      " 13  Condition1     1460 non-null   object \n",
      " 14  Condition2     1460 non-null   object \n",
      " 15  BldgType       1460 non-null   object \n",
      " 16  HouseStyle     1460 non-null   object \n",
      " 17  OverallQual    1460 non-null   int64  \n",
      " 18  OverallCond    1460 non-null   int64  \n",
      " 19  YearBuilt      1460 non-null   int64  \n",
      " 20  YearRemodAdd   1460 non-null   int64  \n",
      " 21  RoofStyle      1460 non-null   object \n",
      " 22  RoofMatl       1460 non-null   object \n",
      " 23  Exterior1st    1460 non-null   object \n",
      " 24  Exterior2nd    1460 non-null   object \n",
      " 25  MasVnrType     588 non-null    object \n",
      " 26  MasVnrArea     1452 non-null   float64\n",
      " 27  ExterQual      1460 non-null   object \n",
      " 28  ExterCond      1460 non-null   object \n",
      " 29  Foundation     1460 non-null   object \n",
      " 30  BsmtQual       1423 non-null   object \n",
      " 31  BsmtCond       1423 non-null   object \n",
      " 32  BsmtExposure   1422 non-null   object \n",
      " 33  BsmtFinType1   1423 non-null   object \n",
      " 34  BsmtFinSF1     1460 non-null   int64  \n",
      " 35  BsmtFinType2   1422 non-null   object \n",
      " 36  BsmtFinSF2     1460 non-null   int64  \n",
      " 37  BsmtUnfSF      1460 non-null   int64  \n",
      " 38  TotalBsmtSF    1460 non-null   int64  \n",
      " 39  Heating        1460 non-null   object \n",
      " 40  HeatingQC      1460 non-null   object \n",
      " 41  CentralAir     1460 non-null   object \n",
      " 42  Electrical     1459 non-null   object \n",
      " 43  1stFlrSF       1460 non-null   int64  \n",
      " 44  2ndFlrSF       1460 non-null   int64  \n",
      " 45  LowQualFinSF   1460 non-null   int64  \n",
      " 46  GrLivArea      1460 non-null   int64  \n",
      " 47  BsmtFullBath   1460 non-null   int64  \n",
      " 48  BsmtHalfBath   1460 non-null   int64  \n",
      " 49  FullBath       1460 non-null   int64  \n",
      " 50  HalfBath       1460 non-null   int64  \n",
      " 51  BedroomAbvGr   1460 non-null   int64  \n",
      " 52  KitchenAbvGr   1460 non-null   int64  \n",
      " 53  KitchenQual    1460 non-null   object \n",
      " 54  TotRmsAbvGrd   1460 non-null   int64  \n",
      " 55  Functional     1460 non-null   object \n",
      " 56  Fireplaces     1460 non-null   int64  \n",
      " 57  FireplaceQu    770 non-null    object \n",
      " 58  GarageType     1379 non-null   object \n",
      " 59  GarageYrBlt    1379 non-null   float64\n",
      " 60  GarageFinish   1379 non-null   object \n",
      " 61  GarageCars     1460 non-null   int64  \n",
      " 62  GarageArea     1460 non-null   int64  \n",
      " 63  GarageQual     1379 non-null   object \n",
      " 64  GarageCond     1379 non-null   object \n",
      " 65  PavedDrive     1460 non-null   object \n",
      " 66  WoodDeckSF     1460 non-null   int64  \n",
      " 67  OpenPorchSF    1460 non-null   int64  \n",
      " 68  EnclosedPorch  1460 non-null   int64  \n",
      " 69  3SsnPorch      1460 non-null   int64  \n",
      " 70  ScreenPorch    1460 non-null   int64  \n",
      " 71  PoolArea       1460 non-null   int64  \n",
      " 72  PoolQC         7 non-null      object \n",
      " 73  Fence          281 non-null    object \n",
      " 74  MiscFeature    54 non-null     object \n",
      " 75  MiscVal        1460 non-null   int64  \n",
      " 76  MoSold         1460 non-null   int64  \n",
      " 77  YrSold         1460 non-null   int64  \n",
      " 78  SaleType       1460 non-null   object \n",
      " 79  SaleCondition  1460 non-null   object \n",
      " 80  SalePrice      1460 non-null   int64  \n",
      "dtypes: float64(3), int64(35), object(43)\n",
      "memory usage: 924.0+ KB\n",
      "None\n"
     ]
    }
   ],
   "source": [
    "print(\"\\nInformação geral do dataset:\") \n",
    "print(df.info())"
   ]
  },
  {
   "cell_type": "code",
   "execution_count": 17,
   "id": "e7369686",
   "metadata": {},
   "outputs": [
    {
     "name": "stdout",
     "output_type": "stream",
     "text": [
      "\n",
      "Contagem de valores nulos por coluna:\n",
      "Id                 0\n",
      "MSSubClass         0\n",
      "MSZoning           0\n",
      "LotFrontage      259\n",
      "LotArea            0\n",
      "                ... \n",
      "MoSold             0\n",
      "YrSold             0\n",
      "SaleType           0\n",
      "SaleCondition      0\n",
      "SalePrice          0\n",
      "Length: 81, dtype: int64\n"
     ]
    }
   ],
   "source": [
    "print(\"\\nContagem de valores nulos por coluna:\") \n",
    "print(df.isnull().sum())"
   ]
  },
  {
   "cell_type": "code",
   "execution_count": 18,
   "id": "9aa00b17",
   "metadata": {},
   "outputs": [
    {
     "name": "stdout",
     "output_type": "stream",
     "text": [
      "\n",
      "Valores nulos\n",
      " LotFrontage      259\n",
      "Alley           1369\n",
      "MasVnrType       872\n",
      "MasVnrArea         8\n",
      "BsmtQual          37\n",
      "BsmtCond          37\n",
      "BsmtExposure      38\n",
      "BsmtFinType1      37\n",
      "BsmtFinType2      38\n",
      "Electrical         1\n",
      "FireplaceQu      690\n",
      "GarageType        81\n",
      "GarageYrBlt       81\n",
      "GarageFinish      81\n",
      "GarageQual        81\n",
      "GarageCond        81\n",
      "PoolQC          1453\n",
      "Fence           1179\n",
      "MiscFeature     1406\n",
      "dtype: int64\n"
     ]
    }
   ],
   "source": [
    "null_values = df.isnull().sum()\n",
    "print(\"\\nValores nulos\\n\",null_values[null_values > 0])"
   ]
  },
  {
   "cell_type": "markdown",
   "id": "7c0ae1fc",
   "metadata": {},
   "source": [
    "Oportunidades para limpeza de dados:\n",
    "- Valores nulos: Variáveis como LotFrontage, GarageYrBlt e MasVnrArea contêm valores ausentes."
   ]
  },
  {
   "cell_type": "code",
   "execution_count": 19,
   "id": "55dc9617",
   "metadata": {},
   "outputs": [
    {
     "name": "stdout",
     "output_type": "stream",
     "text": [
      "\n",
      "Valores nulos na coluna Alley:\n",
      "1369\n",
      "Id               0\n",
      "MSSubClass       0\n",
      "MSZoning         0\n",
      "LotFrontage      0\n",
      "LotArea          0\n",
      "                ..\n",
      "MoSold           0\n",
      "YrSold           0\n",
      "SaleType         0\n",
      "SaleCondition    0\n",
      "SalePrice        0\n",
      "Length: 81, dtype: int64\n"
     ]
    }
   ],
   "source": [
    "# 4. Limpeza de dados\n",
    "\n",
    "# Preencher valores nulos em 'LotFront' com a média\n",
    "df['LotFrontage'] = df['LotFrontage'].fillna(df['LotFrontage'].mean())\n",
    "\n",
    "# Preencher valores nulos em 'GarageType' com a moda\n",
    "df['GarageType'] = df['GarageType'].fillna(df['GarageType'].mode()[0])\n",
    "\n",
    "# Preencher valores nulos em 'MasVnrArea' com a média\n",
    "df['MasVnrArea'] = df['MasVnrArea'].fillna(df['MasVnrArea'].mean())\n",
    "\n",
    "\n",
    "# Preencher valores nulos em 'Alley' com 'desconhecido'\n",
    "print(\"\\nValores nulos na coluna Alley:\")\n",
    "print(df['Alley'].isnull().sum())\n",
    "df['Alley'] = df['Alley'].fillna('desconhecido')\n",
    "\n",
    "# Exemplo para remover linhas com valores nulos em 'PoolQC'\n",
    "df = df.dropna(subset=['PoolQC'])\n",
    "\n",
    "# Conferir se ainda há valores nulos\n",
    "print(df.isnull().sum())\n",
    "\n"
   ]
  },
  {
   "cell_type": "markdown",
   "id": "6f12e2f4",
   "metadata": {},
   "source": [
    "- Conversão de tipos: Algumas colunas numéricas são representadas como strings e precisam ser convertidas."
   ]
  },
  {
   "cell_type": "code",
   "execution_count": 20,
   "id": "430fadcb",
   "metadata": {},
   "outputs": [],
   "source": [
    "df['LotFrontage'] = pd.to_numeric(df['LotFrontage'], errors='coerce')\n",
    "df['MasVnrArea'] = pd.to_numeric(df['MasVnrArea'], errors='coerce')\n",
    "\n",
    "cols = ['LotFrontage', 'MasVnrArea', 'GarageYrBlt']\n",
    "df[cols] = df[cols].apply(pd.to_numeric, errors='coerce')"
   ]
  },
  {
   "cell_type": "markdown",
   "id": "58cc1949",
   "metadata": {},
   "source": [
    "- Imputação: Preenchimento de valores ausentes com média, mediana ou moda."
   ]
  },
  {
   "cell_type": "code",
   "execution_count": 21,
   "id": "1ebdc418",
   "metadata": {},
   "outputs": [
    {
     "name": "stdout",
     "output_type": "stream",
     "text": [
      "\n",
      "Média da coluna LotFrontage: 135.86\n",
      "\n",
      "Estatísticas sobre a (LotArea):\n",
      "Desvio padrão: 17403.87\n",
      "25º percentil: 12881.5\n",
      "75º percentil: 22554.5\n"
     ]
    }
   ],
   "source": [
    "# Preencher valores nulos em 'LotFrontage' com a média\n",
    "df['LotFrontage'] = df['LotFrontage'].fillna(df['LotFrontage'].mean())\n",
    "\n",
    "# Preencher valores nulos em 'MasVnrArea' com a mediana\n",
    "df['MasVnrArea'] = df['MasVnrArea'].fillna(df['MasVnrArea'].median())\n",
    "\n",
    "# Preencher valores nulos em 'GarageType' com a moda\n",
    "df['GarageType'] = df['GarageType'].fillna(df['GarageType'].mode()[0])\n",
    "\n",
    "# Média da coluna LotFrontage\n",
    "media_lotfrontage = df['LotFrontage'].mean()\n",
    "print(f\"\\nMédia da coluna LotFrontage: {media_lotfrontage:.2f}\")\n",
    "\n",
    "lotes = df['LotArea'].dropna() \n",
    "print(\"\\nEstatísticas sobre a (LotArea):\") \n",
    "print(f\"Desvio padrão: {np.std(lotes):.2f}\") \n",
    "print(\"25º percentil:\", np.percentile(lotes, 25)) \n",
    "print(\"75º percentil:\", np.percentile(lotes, 75))"
   ]
  },
  {
   "cell_type": "markdown",
   "id": "d7947005",
   "metadata": {},
   "source": [
    "## Considera o dataset Cafe Sales - Dirty Data for Cleaning Training"
   ]
  },
  {
   "cell_type": "code",
   "execution_count": 22,
   "id": "aca98047",
   "metadata": {},
   "outputs": [
    {
     "name": "stdout",
     "output_type": "stream",
     "text": [
      "Primeiras 10 linhas do dataset:\n",
      "  Transaction ID      Item Quantity Price Per Unit Total Spent  \\\n",
      "0    TXN_1961373    Coffee        2            2.0         4.0   \n",
      "1    TXN_4977031      Cake        4            3.0        12.0   \n",
      "2    TXN_4271903    Cookie        4            1.0       ERROR   \n",
      "3    TXN_7034554     Salad        2            5.0        10.0   \n",
      "4    TXN_3160411    Coffee        2            2.0         4.0   \n",
      "5    TXN_2602893  Smoothie        5            4.0        20.0   \n",
      "6    TXN_4433211   UNKNOWN        3            3.0         9.0   \n",
      "7    TXN_6699534  Sandwich        4            4.0        16.0   \n",
      "8    TXN_4717867       NaN        5            3.0        15.0   \n",
      "9    TXN_2064365  Sandwich        5            4.0        20.0   \n",
      "\n",
      "   Payment Method  Location Transaction Date  \n",
      "0     Credit Card  Takeaway       2023-09-08  \n",
      "1            Cash  In-store       2023-05-16  \n",
      "2     Credit Card  In-store       2023-07-19  \n",
      "3         UNKNOWN   UNKNOWN       2023-04-27  \n",
      "4  Digital Wallet  In-store       2023-06-11  \n",
      "5     Credit Card       NaN       2023-03-31  \n",
      "6           ERROR  Takeaway       2023-10-06  \n",
      "7            Cash   UNKNOWN       2023-10-28  \n",
      "8             NaN  Takeaway       2023-07-28  \n",
      "9             NaN  In-store       2023-12-31  \n",
      "\n",
      "Ultimos 10 registos:      Transaction ID      Item Quantity Price Per Unit Total Spent  \\\n",
      "9990    TXN_1538510    Coffee        5            2.0        10.0   \n",
      "9991    TXN_3897619  Sandwich        3            4.0        12.0   \n",
      "9992    TXN_2739140  Smoothie        4            4.0        16.0   \n",
      "9993    TXN_4766549  Smoothie        2            4.0         NaN   \n",
      "9994    TXN_7851634   UNKNOWN        4            4.0        16.0   \n",
      "9995    TXN_7672686    Coffee        2            2.0         4.0   \n",
      "9996    TXN_9659401       NaN        3            NaN         3.0   \n",
      "9997    TXN_5255387    Coffee        4            2.0         8.0   \n",
      "9998    TXN_7695629    Cookie        3            NaN         3.0   \n",
      "9999    TXN_6170729  Sandwich        3            4.0        12.0   \n",
      "\n",
      "      Payment Method  Location Transaction Date  \n",
      "9990  Digital Wallet       NaN       2023-05-22  \n",
      "9991            Cash  Takeaway       2023-02-24  \n",
      "9992         UNKNOWN  In-store       2023-07-05  \n",
      "9993            Cash       NaN       2023-10-20  \n",
      "9994             NaN       NaN       2023-01-08  \n",
      "9995             NaN   UNKNOWN       2023-08-30  \n",
      "9996  Digital Wallet       NaN       2023-06-02  \n",
      "9997  Digital Wallet       NaN       2023-03-02  \n",
      "9998  Digital Wallet       NaN       2023-12-02  \n",
      "9999            Cash  In-store       2023-11-07  \n"
     ]
    }
   ],
   "source": [
    "# 1. Leitura do dataset Titanic \n",
    "df = pd.read_csv(r'C:\\Users\\HP\\Desktop\\Formação\\Eisnt\\UFCD 10808 - Limpeza e transformação de dados em Python\\dirty_cafe_sales.csv', sep=',', encoding='latin1')\n",
    "print(\"Primeiras 10 linhas do dataset:\")\n",
    "print(df.head(10))\n",
    "print(\"\\nUltimos 10 registos:\", df.tail(10))"
   ]
  },
  {
   "cell_type": "code",
   "execution_count": 23,
   "id": "86db325a",
   "metadata": {},
   "outputs": [
    {
     "name": "stdout",
     "output_type": "stream",
     "text": [
      "\n",
      "Dimensão do dataset: (10000, 8)\n",
      "\n",
      "Colunas: Index(['Transaction ID', 'Item', 'Quantity', 'Price Per Unit', 'Total Spent',\n",
      "       'Payment Method', 'Location', 'Transaction Date'],\n",
      "      dtype='object')\n"
     ]
    }
   ],
   "source": [
    "print(\"\\nDimensão do dataset:\", df.shape)\n",
    "print(\"\\nColunas:\", df.columns)"
   ]
  },
  {
   "cell_type": "code",
   "execution_count": null,
   "id": "6e24c498",
   "metadata": {},
   "outputs": [],
   "source": [
    "print(\"\\nInformação geral do dataset:\") \n",
    "print(df.info())"
   ]
  },
  {
   "cell_type": "markdown",
   "id": "b3928127",
   "metadata": {},
   "source": [
    "- Valores nulos"
   ]
  },
  {
   "cell_type": "code",
   "execution_count": null,
   "id": "487f0d8b",
   "metadata": {},
   "outputs": [],
   "source": [
    "print(\"\\nContagem de valores nulos por coluna:\") \n",
    "print(df.isnull().sum())"
   ]
  },
  {
   "cell_type": "code",
   "execution_count": null,
   "id": "c4569073",
   "metadata": {},
   "outputs": [],
   "source": [
    "null_values = df.isnull().sum()\n",
    "print(\"\\nValores nulos\\n\",null_values[null_values > 0])"
   ]
  },
  {
   "cell_type": "markdown",
   "id": "a0a0e038",
   "metadata": {},
   "source": [
    "- Conversão de tipos"
   ]
  },
  {
   "cell_type": "code",
   "execution_count": 32,
   "id": "3d78c905",
   "metadata": {},
   "outputs": [],
   "source": [
    "cols = ['Quantity', 'Price Per Unit', 'Total Spent']\n",
    "df[cols] = df[cols].apply(pd.to_numeric, errors='coerce')"
   ]
  },
  {
   "cell_type": "markdown",
   "id": "e4798115",
   "metadata": {},
   "source": [
    "- Imputação"
   ]
  },
  {
   "cell_type": "code",
   "execution_count": 33,
   "id": "54a1be90",
   "metadata": {},
   "outputs": [
    {
     "name": "stdout",
     "output_type": "stream",
     "text": [
      "\n",
      "Valores nulos na coluna Payment Method:\n",
      "2531\n"
     ]
    }
   ],
   "source": [
    "# 4. Limpeza de dados\n",
    "\n",
    "# Preencher valores nulos numericos com a média\n",
    "df['Quantity'] = df['Quantity'].fillna(df['Quantity'].mean())\n",
    "df['Price Per Unit'] = df['Price Per Unit'].fillna(df['Price Per Unit'].mean())\n",
    "\n",
    "# Preencher valores nulos string com a moda\n",
    "df['Item'] = df['Item'].fillna(df['Item'].mode()[0])\n",
    "df['Location'] = df['Location'].fillna(df['Location'].mode()[0])\n",
    "\n",
    "# Remover linhas com valores nulos em 'Transaction Date'\n",
    "df = df.dropna(subset=['Transaction Date'])\n",
    "\n",
    "# Preencher valores nulos em 'Payment Method' com 'desconhecido'\n",
    "print(\"\\nValores nulos na coluna Payment Method:\")\n",
    "print(df['Payment Method'].isnull().sum())\n",
    "df['Payment Method'] = df['Payment Method'].fillna('desconhecido')"
   ]
  },
  {
   "cell_type": "code",
   "execution_count": 34,
   "id": "8f62610f",
   "metadata": {},
   "outputs": [
    {
     "name": "stdout",
     "output_type": "stream",
     "text": [
      "\n",
      "Valores nulos\n",
      " Total Spent    493\n",
      "dtype: int64\n"
     ]
    }
   ],
   "source": [
    "null_values = df.isnull().sum()\n",
    "print(\"\\nValores nulos\\n\",null_values[null_values > 0])"
   ]
  },
  {
   "cell_type": "markdown",
   "id": "9249c221",
   "metadata": {},
   "source": [
    "- Detecção de outliers:"
   ]
  },
  {
   "cell_type": "code",
   "execution_count": null,
   "id": "4b44a798",
   "metadata": {},
   "outputs": [],
   "source": []
  }
 ],
 "metadata": {
  "kernelspec": {
   "display_name": "Python 3",
   "language": "python",
   "name": "python3"
  },
  "language_info": {
   "codemirror_mode": {
    "name": "ipython",
    "version": 3
   },
   "file_extension": ".py",
   "mimetype": "text/x-python",
   "name": "python",
   "nbconvert_exporter": "python",
   "pygments_lexer": "ipython3",
   "version": "3.13.2"
  }
 },
 "nbformat": 4,
 "nbformat_minor": 5
}
