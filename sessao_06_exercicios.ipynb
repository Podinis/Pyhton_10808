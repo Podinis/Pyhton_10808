{
 "cells": [
  {
   "cell_type": "markdown",
   "id": "c5cd02a7",
   "metadata": {},
   "source": [
    "### Carregamento de Bibliotecas"
   ]
  },
  {
   "cell_type": "code",
   "execution_count": 15,
   "id": "488c7b52",
   "metadata": {},
   "outputs": [],
   "source": [
    "import pandas as pd\n",
    "import polars as pl"
   ]
  },
  {
   "cell_type": "markdown",
   "id": "6f01ae93",
   "metadata": {},
   "source": [
    "### Exercício 1 — Deteção de outliers com IQR"
   ]
  },
  {
   "cell_type": "code",
   "execution_count": 147,
   "id": "98b25a88",
   "metadata": {},
   "outputs": [
    {
     "name": "stdout",
     "output_type": "stream",
     "text": [
      "\n",
      "Q1, Q3 e IQR no Pandas\n",
      "Coluna: Age | Q1: 20.125 | Q3: 38.0 | IQR: 17.875\n",
      "Coluna: Fare | Q1: 7.9104 | Q3: 31.0 | IQR: 23.0896\n",
      "Coluna: SibSp | Q1: 0.0 | Q3: 1.0 | IQR: 1.0\n",
      "\n",
      "Limites Inferior e Superior:\n",
      "Coluna: Age | Limite Inferior: -6.69 | Limite Superior: 64.81\n",
      "Coluna: Fare | Limite Inferior: -26.72 | Limite Superior: 65.63\n",
      "Coluna: SibSp | Limite Inferior: -1.50 | Limite Superior: 2.50\n",
      "\n",
      "Contagem de outliers:\n",
      "Coluna: Age | Número de Outliers: 11 | Percentagem: 1.23%\n",
      "Coluna: Fare | Número de Outliers: 116 | Percentagem: 13.02%\n",
      "Coluna: SibSp | Número de Outliers: 46 | Percentagem: 5.16%\n"
     ]
    }
   ],
   "source": [
    "# Leitura Pandas com separador ;\n",
    "titanic_pandas = pd.read_csv(r'C:\\Users\\HP\\Desktop\\Formação\\Eisnt\\UFCD 10808 - Limpeza e transformação de dados em Python\\titanic\\train.csv', sep=',', na_values=[\"N/D\", \"NA\"], encoding=\"utf-8\")\n",
    "\n",
    "#1.Carregue train.csv para um DataFrame Pandas e para um DataFrame Polars.\n",
    "df_pandas = pd.DataFrame(titanic_pandas)\n",
    "#print(df_pandas.head())\n",
    "\n",
    "\n",
    "#função para IQR pandas\n",
    "def iqr_pandas(s):\n",
    "    q1, q3 = s.quantile([0.25, 0.75])\n",
    "    iqr = q3 - q1\n",
    "    return q1, q3, iqr\n",
    "\n",
    "cols = ['Age', 'Fare', 'SibSp']\n",
    "\n",
    "# 2.Para cada variável, calcule Q1, Q3 e IQR.\n",
    "print(\"\\nQ1, Q3 e IQR no Pandas\")\n",
    "for col in cols:\n",
    "    q1, q3, iqr = iqr_pandas(df_pandas[col])\n",
    "    print(f\"Coluna: {col} | Q1: {q1} | Q3: {q3} | IQR: {iqr}\")\n",
    "\n",
    "#3.Defina limites inferior/superior = Q1 − 1,5·IQR e Q3 + 1,5·IQR.\n",
    "def limites_pandas(s):\n",
    "    q1, q3, iqr = iqr_pandas(s)\n",
    "    lower_limit = q1 - 1.5 * iqr\n",
    "    upper_limit = q3 + 1.5 * iqr\n",
    "    return lower_limit, upper_limit \n",
    "\n",
    "print(\"\\nLimites Inferior e Superior:\")\n",
    "for col in cols:\n",
    "    lower_limit, upper_limit = limites_pandas(df_pandas[col])\n",
    "    print(f\"Coluna: {col} | Limite Inferior: {lower_limit:.2f} | Limite Superior: {upper_limit:.2f}\")   \n",
    "    \n",
    "print(\"\\nContagem de outliers:\")    \n",
    "#4.Conte quantos outliers existem por variável.\n",
    "for c in cols:\n",
    "    lower_limit, upper_limit = limites_pandas(df_pandas[c])\n",
    "    outliers = (df_pandas[c] < lower_limit) | (df_pandas[c] > upper_limit)\n",
    "    n_outliers = outliers.sum()\n",
    "    perc= n_outliers / len(df_pandas)\n",
    "    print(f\"Coluna: {c} | Número de Outliers: {n_outliers} | Percentagem: {perc:.2%}\")\n",
    "\n",
    "\n",
    "#5. Compare tempos de execução (use %%timeit).\n"
   ]
  },
  {
   "cell_type": "code",
   "execution_count": null,
   "id": "3a94a832",
   "metadata": {},
   "outputs": [],
   "source": [
    "# Leitura Polars com separador ,\n",
    "titanic_polars = pl.read_csv(r'C:\\Users\\HP\\Desktop\\Formação\\Eisnt\\UFCD 10808 - Limpeza e transformação de dados em Python\\titanic\\train.csv', separator=',',  null_values=[\"N/D\", \"NA\"], encoding=\"utf-8\")\n",
    "\n",
    "#1.Carregue train.csv para um DataFrame Pandas e para um DataFrame Polars.\n",
    "df_polars = pl.DataFrame(titanic_polars)\n",
    "\n",
    "#print(df_polars.head())\n",
    "\n",
    "#função para IQR pandas\n",
    "def iqr_polars(s):\n",
    "    q1= df_polars.select(pl.col(s)).quantile(0.25,\"nearest\").item()\n",
    "    q3= df_polars.select(pl.col(s)).quantile(0.75,\"nearest\").item()\n",
    "    iqr = q3 - q1\n",
    "    return q1, q3, iqr\n",
    "\n",
    "cols = ['Age', 'Fare', 'SibSp']\n",
    "\n",
    "# 2.Para cada variável, calcule Q1, Q3 e IQR.\n",
    "print(\"\\nQ1, Q3 e IQR no Polars\")\n",
    "for col in cols:\n",
    "    q1, q3, iqr = iqr_polars(col)\n",
    "    print(f\"Coluna: {col} | Q1: {q1} | Q3: {q3} | IQR: {iqr}\")\n",
    "    \n",
    "#3.Defina limites inferior/superior = Q1 − 1,5·IQR e Q3 + 1,5·IQR.\n",
    "def limites_polars(s):\n",
    "    q1, q3, iqr = iqr_polars(s)\n",
    "    lower_limit = q1 - 1.5 * iqr\n",
    "    upper_limit = q3 + 1.5 * iqr\n",
    "    return lower_limit, upper_limit\n",
    "\n",
    "print(\"\\nLimites Inferior e Superior:\")\n",
    "for col in cols:\n",
    "    lower_limit, upper_limit = limites_polars(col)\n",
    "    print(f\"Coluna: {col} | Limite Inferior: {lower_limit:.2f} | Limite Superior: {upper_limit:.2f}\")   \n",
    "\n",
    "\n",
    "#4.Conte quantos outliers existem por variável.\n",
    "print(\"\\nContagem de outliers:\")\n",
    "\n",
    "for c in cols:\n",
    "    lower_limit, upper_limit = limites_polars(c)\n",
    "    outliers = df_polars.filter((pl.col(c) < lower_limit) | (pl.col(c) > upper_limit)) \n",
    "    n_outliers = outliers.height\n",
    "    print(f\"Coluna: {c} | Número de Outliers: {n_outliers} \")\n",
    "    \n",
    "    "
   ]
  },
  {
   "cell_type": "markdown",
   "id": "328586ab",
   "metadata": {},
   "source": [
    "### Exercício 2 — Capping de valores extremos"
   ]
  },
  {
   "cell_type": "code",
   "execution_count": null,
   "id": "facc08f0",
   "metadata": {},
   "outputs": [],
   "source": [
    "#1 - Ler Dataset\n",
    "df_exam = pd.read_csv(r'C:\\Users\\HP\\Desktop\\Formação\\Eisnt\\UFCD 10808 - Limpeza e transformação de dados em Python\\StudentsPerformance.csv', sep=',', na_values=[\"N/D\", \"NA\"], encoding=\"utf-8\")\n",
    "#print(df_exam.head())\n",
    "\n",
    "# 2 - Explorar distribuição inicial\n",
    "print(\"\\nDistribuição inicial:\")\n",
    "num_cols =['math score', 'reading score', 'writing score']\n",
    "print(df_exam[num_cols].describe().loc[['mean', 'min', 'max']])\n",
    "\n",
    "# 3 - Calcular p5/p95 e aplicar capping\n",
    "print(\"\\nCapping:\")\n",
    "for col in num_cols:\n",
    "    p5 = df_exam[col].quantile(0.05)\n",
    "    p95 = df_exam[col].quantile(0.95)\n",
    "    df_exam[col + \"_raw\"] = df_exam[col] #guardar os valores originais\n",
    "    print(f\"Coluna: {col} | P5: {p5:.2f} | P95: {p95:.2f}\")\n",
    "    df_exam[col] = df_exam[col].clip(p5, p95)   \n",
    "    #print(f\"Coluna: {col} | Média: {df_exam[col].mean():.2f} | Mínimo: {df_exam[col].min():.2f} | Máximo: {df_exam[col].max():.2f}\")\n",
    "    \n",
    "# 4 - Avaliar impacto do capping\n",
    "before = df_exam[[col + \"_raw\" for col in num_cols]].describe().loc[['mean', 'std']]\n",
    "after = df_exam[num_cols].describe().loc[['mean', 'std']]\n",
    "print(\"\\nImpacto do capping:\")\n",
    "print(before.join(after, lsuffix='_before', rsuffix='_after'))"
   ]
  },
  {
   "cell_type": "markdown",
   "id": "4b7f6900",
   "metadata": {},
   "source": [
    "### Exercício 3 — Duplicados & valores nulos"
   ]
  },
  {
   "cell_type": "code",
   "execution_count": null,
   "id": "1e778635",
   "metadata": {},
   "outputs": [],
   "source": [
    "\n",
    "#1. Verifique duplicados completos \n",
    "print(\"Duplicados completos: \", titanic_pandas.duplicated().sum())\n",
    "\n",
    "#2.Remova-os\n",
    "dups = titanic_pandas.duplicated().sum()\n",
    "print(f\"\\nNúmero de duplicados: {dups}\")\n",
    "titanic_pandas = titanic_pandas.drop_duplicates()\n",
    "\n",
    "#3.Impute Age com a mediana por Pclass.\n",
    "print(\"\\nImputar Age pela mediana estratificada\")\n",
    "age_med = titanic_pandas.groupby('Pclass')['Age'].transform('median')\n",
    "titanic_pandas['Age'] = titanic_pandas['Age'].fillna(age_med)\n",
    "print(titanic_pandas['Age'].describe())\n",
    "\n",
    "#4. Impute Embarked com a moda global.\n",
    "print(f\"\\nImputar Embarked pela moda\")\n",
    "most_common = titanic_pandas['Embarked'].mode().iat[0]\n",
    "titanic_pandas['Embarked'] = titanic_pandas['Embarked'].fillna(most_common)\n",
    "print(titanic_pandas['Embarked'])\n",
    "\n",
    "#5. Crie uma flag Cabin_missing (1 = cabine desconhecida).\n",
    "print(f\"\\nFlag para cabines desconhecidas\")\n",
    "titanic_pandas['Cabin_missing'] = titanic_pandas['Cabin'].isna().astype(int)\n",
    "print(titanic_pandas['Cabin_missing'])\n"
   ]
  },
  {
   "cell_type": "markdown",
   "id": "078b5726",
   "metadata": {},
   "source": [
    "### Exercício 4 — Encoding de variáveis categóricas"
   ]
  },
  {
   "cell_type": "code",
   "execution_count": 171,
   "id": "ab72aaec",
   "metadata": {},
   "outputs": [
    {
     "name": "stdout",
     "output_type": "stream",
     "text": [
      "\n",
      "Criar rótulo-alvo\n",
      "Label Encoding : 1.00 \n",
      " One-Hot: 1.00\n"
     ]
    }
   ],
   "source": [
    "# 1 - Criar rótulo-alvo\n",
    "print(\"\\nCriar rótulo-alvo\")\n",
    "df_exam['pass_math'] = (df_exam['math score'] >=60).astype(int)\n",
    "X_raw = df_exam.drop(columns=['pass_math'])\n",
    "y = df_exam['pass_math']\n",
    "cat_cols = ['gender','race/ethnicity','parental level of education','lunch','test preparation course']\n",
    "\n",
    "#2 - LAbel Encoding\n",
    "from sklearn.preprocessing import LabelEncoder\n",
    "X_le = X_raw.copy()\n",
    "le_dict = {}\n",
    "\n",
    "for c in cat_cols:\n",
    "       le = LabelEncoder().fit(X_le[c])\n",
    "       X_le[c] = le.transform(X_le[c])         \n",
    "       le_dict[c] = le\n",
    "\n",
    "#3 - One Hot Encoding\n",
    "X_oh = pd.get_dummies(X_raw, columns=cat_cols, drop_first=True)\n",
    "#print(X_oh.head())\n",
    "\n",
    "#4 - Random Forest + 5-fold CV\n",
    "from sklearn.ensemble import RandomForestClassifier\n",
    "from sklearn.model_selection import cross_val_score\n",
    "\n",
    "clf = RandomForestClassifier(n_estimators=200, random_state=42)\n",
    "acc_le = cross_val_score(clf, X_le, y, cv=5, scoring='accuracy').mean()\n",
    "acc_oh = cross_val_score(clf, X_oh, y, cv=5, scoring='accuracy').mean()\n",
    "\n",
    "print(f\"Label Encoding : {acc_le:.2f} \\n One-Hot: {acc_oh:.2f}\")\n"
   ]
  },
  {
   "cell_type": "markdown",
   "id": "f4d2864b",
   "metadata": {},
   "source": [
    "### Exercício 5 — Escalonamento e pipeline"
   ]
  }
 ],
 "metadata": {
  "kernelspec": {
   "display_name": "Python 3",
   "language": "python",
   "name": "python3"
  },
  "language_info": {
   "codemirror_mode": {
    "name": "ipython",
    "version": 3
   },
   "file_extension": ".py",
   "mimetype": "text/x-python",
   "name": "python",
   "nbconvert_exporter": "python",
   "pygments_lexer": "ipython3",
   "version": "3.13.2"
  }
 },
 "nbformat": 4,
 "nbformat_minor": 5
}
