{
 "cells": [
  {
   "cell_type": "markdown",
   "id": "c66af555",
   "metadata": {},
   "source": [
    "### Conteudo Aula 3\n",
    "\n",
    "-\n"
   ]
  }
 ],
 "metadata": {
  "language_info": {
   "name": "python"
  }
 },
 "nbformat": 4,
 "nbformat_minor": 5
}
