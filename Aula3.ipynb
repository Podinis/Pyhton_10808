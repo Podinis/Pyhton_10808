{
 "cells": [
  {
   "cell_type": "markdown",
   "id": "c66af555",
   "metadata": {},
   "source": [
    "### Conteudo Aula 3\n",
    "\n",
    "- Identificação Valores nulos\n",
    "- Tratamento nulos\n",
    "    Em Pandas\n",
    "        1 - df.isnull() ou df.isna() - devolve um booleano\n",
    "        2 - df.notnull() ou df.notna() - util para filtragens\n",
    "        3 - df.isnull().sum() - contar valores numeros\n",
    "    Em Polars\n",
    "        1 - df.null_count() - devolve total de nulos\n",
    "        2 - pl.col(\"campo\").is_null() - expressão para detear nulos\n",
    "\n",
    "- Preenchimento e Imputação de Valores nulos.\n",
    "    df[]'Região']=df['Regiao'].fillna(\"desconhecido\")\n",
    "\n",
    "- Conversão de Tipos de dados\n",
    "    Em Pandas\n",
    "        astype(tipo)\n",
    "        pd.To_numeric(), pd.to_datetime()\n",
    "        explo= df['Rendimento']=pd-to_numeric(df['Rendimento'], errors='coerce')\n",
    "    Em Polars\n",
    "        df=df.with_columns([pl.col(\"Rendimento\").cast(pl.Float64)])\n",
    "\n",
    "- Estatisticas com Numpy\n",
    "    "
   ]
  }
 ],
 "metadata": {
  "language_info": {
   "name": "python"
  }
 },
 "nbformat": 4,
 "nbformat_minor": 5
}
